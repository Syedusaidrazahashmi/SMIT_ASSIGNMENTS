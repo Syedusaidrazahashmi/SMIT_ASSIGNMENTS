{
 "cells": [
  {
   "cell_type": "markdown",
   "id": "e3350c92-d40c-4cc2-965f-f2256646cb99",
   "metadata": {},
   "source": [
    "# Strings Assignments"
   ]
  },
  {
   "cell_type": "markdown",
   "id": "34327f50-03c7-470e-a733-1b87f493f1e9",
   "metadata": {},
   "source": [
    "### 1. Write a program that accepts a string from user. Your program should count and display number of vowels in that string."
   ]
  },
  {
   "cell_type": "code",
   "execution_count": 31,
   "id": "6897f685-8989-4d26-8519-ac388dd63b3a",
   "metadata": {},
   "outputs": [
    {
     "name": "stdin",
     "output_type": "stream",
     "text": [
      "ENTER ANY CHARACTER:.... maviya\n"
     ]
    }
   ],
   "source": [
    "string = str(input(\"ENTER ANY CHARACTER:....\"))"
   ]
  },
  {
   "cell_type": "code",
   "execution_count": 33,
   "id": "200644b9-e47f-4605-a577-bdbf5fc1e552",
   "metadata": {},
   "outputs": [
    {
     "name": "stdout",
     "output_type": "stream",
     "text": [
      "No of vowels in given character! 3\n"
     ]
    }
   ],
   "source": [
    "\n",
    "\n",
    "check_1=string.count(vowel_1) \n",
    "check_2=string.count(vowel_2) \n",
    "check_3=string.count(vowel_3) \n",
    "check_4=string.count(vowel_4) \n",
    "check_5=string.count(vowel_5) \n",
    "vowel_1=\"a\"\n",
    "vowel_2=\"e\" \n",
    "vowel_3=\"i\" \n",
    "vowel_4=\"0\" \n",
    "vowel_5=\"u\" \n",
    " \n",
    "\n",
    "vowels=check_1+check_2+check_3+check_4+check_5 \n",
    "\n",
    "print(f\"No of vowels in given character! {vowels}\") \n",
    "\n",
    "\n"
   ]
  },
  {
   "cell_type": "markdown",
   "id": "bdfd9f16-376e-43c2-91cf-3ea41214fc5f",
   "metadata": {},
   "source": [
    "### 2. Write a program that reads a string from keyboard and display:\n",
    "* The number of uppercase letters in the string\n",
    "* The number of lowercase letters in the string\n",
    "* The number of digits in the string\n",
    "* The number of whitespace characters in the string"
   ]
  },
  {
   "cell_type": "code",
   "execution_count": 11,
   "id": "bb0f6330-595f-4637-ab31-f68113f785cd",
   "metadata": {},
   "outputs": [
    {
     "name": "stdin",
     "output_type": "stream",
     "text": [
      "Enter a string:  maviya is _a very bEAUTIFUL BOY\n"
     ]
    },
    {
     "name": "stdout",
     "output_type": "stream",
     "text": [
      "Uppercase letters: 11\n",
      "Lowercase letters:  14\n",
      "Digits: 0\n",
      "Whitespace characters: 5\n"
     ]
    }
   ],
   "source": [
    "user_string = input(\"Enter a string: \") \n",
    "uppercase_count = 0 \n",
    "lowercase_count = 0 \n",
    "digit_count = 0 \n",
    "whitespace_count = 0 \n",
    "for i in range(len(user_string)): \n",
    "    if user_string[i].isupper():\n",
    "         uppercase_count += 1 \n",
    "    elif user_string[i].islower():\n",
    "            lowercase_count += 1 \n",
    "    elif user_string[i].isdigit():\n",
    "            digit_count += 1 \n",
    "    elif user_string[i].isspace():\n",
    "            whitespace_count += 1 \n",
    "            \n",
    "print(\"Uppercase letters:\", uppercase_count) \n",
    "print(\"Lowercase letters: \", lowercase_count) \n",
    "print(\"Digits:\", digit_count) \n",
    "print(\"Whitespace characters:\", whitespace_count)"
   ]
  },
  {
   "cell_type": "markdown",
   "id": "42a7dcd4-451b-4645-adbc-cf0045cc0dd5",
   "metadata": {},
   "source": [
    "### 3. Write a Python program that accepts a string from user. Your program should create and display a new string where the first and last characters have been exchanged. "
   ]
  },
  {
   "cell_type": "code",
   "execution_count": 16,
   "id": "32270206-49ce-4c06-949f-e41c8db27849",
   "metadata": {},
   "outputs": [
    {
     "name": "stdin",
     "output_type": "stream",
     "text": [
      "ENTER A STRING VALUE: maviya\n"
     ]
    },
    {
     "data": {
      "text/plain": [
       "'aaviym'"
      ]
     },
     "execution_count": 16,
     "metadata": {},
     "output_type": "execute_result"
    }
   ],
   "source": [
    "string = str(input(\"ENTER A STRING VALUE:\"))\n",
    "swapped_string = string[-1] + string[1:-1] + string[0] \n",
    "swapped_string "
   ]
  },
  {
   "cell_type": "markdown",
   "id": "65b27246-8d15-4152-96b4-22796222e21e",
   "metadata": {},
   "source": [
    "### 4. Write a Python program that accepts a string from user. Your program should create a new string in reverse of first string and display it."
   ]
  },
  {
   "cell_type": "code",
   "execution_count": 19,
   "id": "d9e5ba35-2125-498b-b98c-943e929e3f63",
   "metadata": {},
   "outputs": [
    {
     "name": "stdin",
     "output_type": "stream",
     "text": [
      "Enter an string maviya\n"
     ]
    },
    {
     "data": {
      "text/plain": [
       "'ayivam'"
      ]
     },
     "execution_count": 19,
     "metadata": {},
     "output_type": "execute_result"
    }
   ],
   "source": [
    "user_string = str(input(\"Enter an string\"))\n",
    "user_string = user_string[::-1]\n",
    "user_string"
   ]
  },
  {
   "cell_type": "markdown",
   "id": "c6b53316-5ffa-49fc-bf81-0226f1b66e89",
   "metadata": {},
   "source": [
    "### 5. Write a Python program that accepts a string from user. Your program should create a new string by shifting one position to left."
   ]
  },
  {
   "cell_type": "code",
   "execution_count": 22,
   "id": "b57d8096-33c9-44c3-b4f5-aeb0ae06fcb3",
   "metadata": {},
   "outputs": [
    {
     "name": "stdin",
     "output_type": "stream",
     "text": [
      "Enter an string examination2024\n"
     ]
    },
    {
     "data": {
      "text/plain": [
       "'xamination2024e'"
      ]
     },
     "execution_count": 22,
     "metadata": {},
     "output_type": "execute_result"
    }
   ],
   "source": [
    "user_string = str(input(\"Enter an string\"))\n",
    "user_string = user_string[1:]+ user_string[0]\n",
    "user_string"
   ]
  },
  {
   "cell_type": "markdown",
   "id": "87ceff51-85c2-449b-87cb-197387dea4b0",
   "metadata": {},
   "source": [
    "### 6. Write a program that asks the user to input his name and print its initials. Assuming that the user always types first name, middle name and last name and does not include any unnecessary spaces. For example, if the user enters Ajay Kumar Garg the program should display A. K. G. Note:Don't use split() method"
   ]
  },
  {
   "cell_type": "code",
   "execution_count": 49,
   "id": "239eb9d8-5538-44be-bdf9-47977d629116",
   "metadata": {},
   "outputs": [
    {
     "name": "stdin",
     "output_type": "stream",
     "text": [
      "Enter your full name (first name, middle name, last name):  ageh ja kar betho\n"
     ]
    },
    {
     "name": "stdout",
     "output_type": "stream",
     "text": [
      "a. j. k. b.\n"
     ]
    }
   ],
   "source": [
    "# Get the full name from the user\n",
    "full_name = input(\"Enter your full name (first name, middle name, last name): \")\n",
    "\n",
    "# Initialize an empty string to store the initials\n",
    "initials = \"\"\n",
    "\n",
    "# We iterate through the full name and add the first letter of each word to initials\n",
    "for i in range(len(full_name)):\n",
    "    # Check if the character is a space or if it's the first character of the string\n",
    "    if i == 0 or full_name[i-1] == \" \":\n",
    "        initials += full_name[i] + \". \"\n",
    "\n",
    "# Remove the last extra space after the last initial\n",
    "initials = initials.strip()\n",
    "\n",
    "# Print the initials\n",
    "print(initials)\n"
   ]
  },
  {
   "cell_type": "markdown",
   "id": "b7b842f7-e810-4db6-951f-1e71a8bd39d4",
   "metadata": {},
   "source": [
    "### 7. A palindrome is a string that reads the same backward as forward. For example, the words dad, madam and radar are all palindromes. Write a programs that determines whether the string is a palindrome."
   ]
  },
  {
   "cell_type": "code",
   "execution_count": 34,
   "id": "24626b93-a94e-47e4-bd7b-5e3d9b6740fe",
   "metadata": {},
   "outputs": [
    {
     "name": "stdin",
     "output_type": "stream",
     "text": [
      "Enter an string MADAM\n"
     ]
    },
    {
     "name": "stdout",
     "output_type": "stream",
     "text": [
      "THE GIVEN STRING IS PALINDROME:\n"
     ]
    }
   ],
   "source": [
    "user_string = str(input(\"Enter an string\"))\n",
    "if user_string == user_string[::1]:\n",
    "    print('THE GIVEN STRING IS PALINDROME:')\n",
    "\n",
    "else:\n",
    "    print('THE GIVEN STRING IS NOT PALINDROME:')"
   ]
  },
  {
   "cell_type": "markdown",
   "id": "25abfd4c-1ae2-4be0-9522-c64b53b23abe",
   "metadata": {},
   "source": [
    "### 8. Write a program that display following output:\n",
    "SHIFT\n",
    "HIFTS\n",
    "IFTSH\n",
    "FTSHI\n",
    "TSHIF\n",
    "SHIFT"
   ]
  },
  {
   "cell_type": "code",
   "execution_count": 37,
   "id": "09c5d2e3-25ec-411d-bf31-3e52280811b6",
   "metadata": {},
   "outputs": [
    {
     "name": "stdout",
     "output_type": "stream",
     "text": [
      "SHIFT\n",
      "HIFTS\n",
      "IFTSH\n",
      "FTSHI\n",
      "TSHIF\n",
      "SHIFT\n"
     ]
    }
   ],
   "source": [
    " string = \"SHIFT\" \n",
    "\n",
    "print(string[0:]) \n",
    "print(string[1:]+string[0]) \n",
    "print(string[2:]+string[0:2])\n",
    "print(string[3:]+string[0:3]) \n",
    "print(string[4:]+string[0:4]) \n",
    "print(string[0:]) "
   ]
  },
  {
   "cell_type": "markdown",
   "id": "3bf7c7d8-212b-492e-909d-27b6055cf55c",
   "metadata": {},
   "source": [
    "### 9. Write a program in python that accepts a string to setup a passwords. Your entered password must meet the following requirements:\n",
    "The password must be at least eight characters long.\n",
    "It must contain at least one uppercase letter.\n",
    "It must contain at least one lowercase letter.\n",
    "It must contain at least one numeric digit.\n",
    "Your program should should perform this validation."
   ]
  },
  {
   "cell_type": "code",
   "execution_count": 44,
   "id": "acdd4e0c-f609-4ddf-92e5-dfed48b29f47",
   "metadata": {},
   "outputs": [
    {
     "name": "stdin",
     "output_type": "stream",
     "text": [
      "Enter a password: Ms123_df\n"
     ]
    },
    {
     "name": "stdout",
     "output_type": "stream",
     "text": [
      "Your password is valid: Ms123_df\n"
     ]
    }
   ],
   "source": [
    "password=input(\"Enter a password:\") \n",
    "if len(password) < 8:\n",
    "    print(\"Password must contain at least 8 characters!\") \n",
    "\n",
    "\n",
    "for char in password:\n",
    "    if (char.isupper()): \n",
    "        break \n",
    "else:\n",
    "    print(\"Password must contain at least 1 uppercase character!\") \n",
    "for char in password: \n",
    "    if (char.islower()): \n",
    "        break\n",
    "else:\n",
    "    print(\"Password must contain at least 1 lowercase character!\") \n",
    "for char in password: \n",
    "    if (char.isdigit()): \n",
    "        break \n",
    "else:\n",
    "    print(\"Password must contain at least 1 digit character!\") \n",
    "    \n",
    "print (f\"Your password is valid: {password}\") "
   ]
  }
 ],
 "metadata": {
  "kernelspec": {
   "display_name": "Python 3 (ipykernel)",
   "language": "python",
   "name": "python3"
  },
  "language_info": {
   "codemirror_mode": {
    "name": "ipython",
    "version": 3
   },
   "file_extension": ".py",
   "mimetype": "text/x-python",
   "name": "python",
   "nbconvert_exporter": "python",
   "pygments_lexer": "ipython3",
   "version": "3.12.7"
  }
 },
 "nbformat": 4,
 "nbformat_minor": 5
}
