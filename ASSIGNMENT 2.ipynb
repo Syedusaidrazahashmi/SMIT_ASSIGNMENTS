{
 "cells": [
  {
   "cell_type": "markdown",
   "id": "e30099b6-005b-4281-88db-e8ad2a12068f",
   "metadata": {},
   "source": [
    "# 1) AREA OF RECTANGULAR"
   ]
  },
  {
   "cell_type": "code",
   "execution_count": 9,
   "id": "bd796471-f026-4f15-b7fa-84c6db335d2b",
   "metadata": {},
   "outputs": [
    {
     "name": "stdin",
     "output_type": "stream",
     "text": [
      "Enter lenght 7\n"
     ]
    }
   ],
   "source": [
    "length = float(input(\"Enter lenght\"))"
   ]
  },
  {
   "cell_type": "code",
   "execution_count": 11,
   "id": "2a66e4e8-edfd-48e3-8889-8d0d2edd5349",
   "metadata": {},
   "outputs": [
    {
     "name": "stdin",
     "output_type": "stream",
     "text": [
      "Enter width 7\n"
     ]
    }
   ],
   "source": [
    "width = float(input(\"Enter width\"))"
   ]
  },
  {
   "cell_type": "code",
   "execution_count": 23,
   "id": "160c84f5-6e42-4a97-b7f3-992f27fbb2c9",
   "metadata": {},
   "outputs": [],
   "source": [
    "Area = length*width"
   ]
  },
  {
   "cell_type": "code",
   "execution_count": 25,
   "id": "2211c773-7ab7-486d-a693-8b0c28b4d696",
   "metadata": {},
   "outputs": [
    {
     "name": "stdout",
     "output_type": "stream",
     "text": [
      "49.0\n"
     ]
    }
   ],
   "source": [
    "print (Area)"
   ]
  },
  {
   "cell_type": "markdown",
   "id": "07eb7635-61b8-48b9-9632-4b21c57f1579",
   "metadata": {},
   "source": [
    "# 2) CIRCUMFERENCE OF A CIRCLE"
   ]
  },
  {
   "cell_type": "code",
   "execution_count": 27,
   "id": "b133a99a-262a-479a-a046-7d10193c8919",
   "metadata": {},
   "outputs": [
    {
     "name": "stdin",
     "output_type": "stream",
     "text": [
      "ENTER RADIUS 4\n"
     ]
    }
   ],
   "source": [
    "radius = float(input(\"ENTER RADIUS\"))"
   ]
  },
  {
   "cell_type": "code",
   "execution_count": 11,
   "id": "d451bdb3-5ad0-43ff-b65c-d17f49a09f87",
   "metadata": {},
   "outputs": [],
   "source": [
    "pie = float(3.142)"
   ]
  },
  {
   "cell_type": "code",
   "execution_count": 33,
   "id": "70f57a95-f7b8-4e0f-8879-1ade9067ba55",
   "metadata": {},
   "outputs": [],
   "source": [
    "Circumference = radius * pie"
   ]
  },
  {
   "cell_type": "code",
   "execution_count": 35,
   "id": "c05f563e-c0df-4615-9f14-afefe5ec69cb",
   "metadata": {},
   "outputs": [
    {
     "name": "stdout",
     "output_type": "stream",
     "text": [
      "0.568\n"
     ]
    }
   ],
   "source": [
    "print(Circumference)"
   ]
  },
  {
   "cell_type": "markdown",
   "id": "ed229c37-81fc-447f-86b4-8cc52f1ead3c",
   "metadata": {},
   "source": [
    "# 3) SIMPLE INTEREST\n"
   ]
  },
  {
   "cell_type": "code",
   "execution_count": 1,
   "id": "9d6e26ba-6a74-4b0c-b93e-8e55e75a0ec3",
   "metadata": {},
   "outputs": [
    {
     "name": "stdin",
     "output_type": "stream",
     "text": [
      "Enter value 21\n"
     ]
    }
   ],
   "source": [
    "principle = float(input(\"Enter value\"))\n"
   ]
  },
  {
   "cell_type": "code",
   "execution_count": 3,
   "id": "be59e49a-cc50-43a8-814e-2f9980effbfc",
   "metadata": {},
   "outputs": [
    {
     "name": "stdin",
     "output_type": "stream",
     "text": [
      "Enter value 43\n"
     ]
    }
   ],
   "source": [
    "rate = float(input(\"Enter value\"))"
   ]
  },
  {
   "cell_type": "code",
   "execution_count": 5,
   "id": "1a055196-56c3-47fe-a394-e8c95a14ed1b",
   "metadata": {},
   "outputs": [
    {
     "name": "stdin",
     "output_type": "stream",
     "text": [
      "Enter value 34\n"
     ]
    }
   ],
   "source": [
    "time = float(input(\"Enter value\"))"
   ]
  },
  {
   "cell_type": "code",
   "execution_count": 9,
   "id": "99786905-e40a-4f16-921c-9c691ce4c018",
   "metadata": {},
   "outputs": [],
   "source": [
    "Simple_interest = principle * rate * time"
   ]
  },
  {
   "cell_type": "code",
   "execution_count": 11,
   "id": "4440e968-af0f-4b8c-8f7a-47e49b6f2055",
   "metadata": {},
   "outputs": [
    {
     "name": "stdout",
     "output_type": "stream",
     "text": [
      "30702.0\n"
     ]
    }
   ],
   "source": [
    "print(Simple_interest)"
   ]
  },
  {
   "cell_type": "markdown",
   "id": "b9dbcf30-3d11-4976-b70c-97ff2f8ac097",
   "metadata": {},
   "source": [
    "# 4) SPEED OF AN OBJECT"
   ]
  },
  {
   "cell_type": "code",
   "execution_count": 17,
   "id": "5e1e5906-5ea0-4cd5-8d47-094da412b72a",
   "metadata": {},
   "outputs": [
    {
     "name": "stdin",
     "output_type": "stream",
     "text": [
      "Enter value 12\n"
     ]
    }
   ],
   "source": [
    "distance = float(input(\"Enter value\"))"
   ]
  },
  {
   "cell_type": "code",
   "execution_count": 20,
   "id": "1dcb37b2-9f62-4956-b4df-babb5122f539",
   "metadata": {},
   "outputs": [
    {
     "name": "stdin",
     "output_type": "stream",
     "text": [
      "Enter value 87\n"
     ]
    }
   ],
   "source": [
    "Time = float(input(\"Enter value\"))"
   ]
  },
  {
   "cell_type": "code",
   "execution_count": 22,
   "id": "0b5d0829-68f6-4c78-b4f5-125fa5704b02",
   "metadata": {},
   "outputs": [],
   "source": [
    "Speed = distance * Time"
   ]
  },
  {
   "cell_type": "code",
   "execution_count": 24,
   "id": "65d22e39-08b3-4ef2-994d-512d6ec1dd56",
   "metadata": {},
   "outputs": [
    {
     "name": "stdout",
     "output_type": "stream",
     "text": [
      "1044.0\n"
     ]
    }
   ],
   "source": [
    "print(Speed)"
   ]
  },
  {
   "cell_type": "markdown",
   "id": "c4a9597a-ffb7-420f-ba74-70cad348dba6",
   "metadata": {},
   "source": [
    "# 5) BMI CALCULATOR"
   ]
  },
  {
   "cell_type": "code",
   "execution_count": 99,
   "id": "31c4d3f5-be8f-4add-9bc1-be345f63b3fc",
   "metadata": {},
   "outputs": [
    {
     "name": "stdin",
     "output_type": "stream",
     "text": [
      "ENTER WEIGHT IN KG 10\n"
     ]
    }
   ],
   "source": [
    "weight = float(input(\"ENTER WEIGHT IN KG\"))"
   ]
  },
  {
   "cell_type": "code",
   "execution_count": 101,
   "id": "3758dfcb-1a54-4ae0-8466-144ad1b6f486",
   "metadata": {},
   "outputs": [
    {
     "name": "stdin",
     "output_type": "stream",
     "text": [
      "ENTER HEIGHT IN METER 5\n"
     ]
    }
   ],
   "source": [
    "height = float(input(\"ENTER HEIGHT IN METER\"))"
   ]
  },
  {
   "cell_type": "code",
   "execution_count": 103,
   "id": "ba477f0c-d1be-4823-96a2-029d3d617584",
   "metadata": {},
   "outputs": [],
   "source": [
    "BMI = (weight / height**2)"
   ]
  },
  {
   "cell_type": "code",
   "execution_count": 105,
   "id": "0e5e7077-fe42-4161-ab77-a2e29ecf1d82",
   "metadata": {},
   "outputs": [
    {
     "name": "stdout",
     "output_type": "stream",
     "text": [
      "0.4\n"
     ]
    }
   ],
   "source": [
    "print(BMI)"
   ]
  },
  {
   "cell_type": "markdown",
   "id": "9f8dbb9c-6903-49d3-a992-06bedf983d09",
   "metadata": {},
   "source": [
    "# 6) NEWTON SECOND LAW OF MOTION "
   ]
  },
  {
   "cell_type": "code",
   "execution_count": 66,
   "id": "683cbf49-3c2f-4249-8d6d-806a127c54b9",
   "metadata": {},
   "outputs": [
    {
     "name": "stdin",
     "output_type": "stream",
     "text": [
      "ENTER MASS IN KG 2\n"
     ]
    }
   ],
   "source": [
    "mass = float(input(\"ENTER MASS IN KG\"))"
   ]
  },
  {
   "cell_type": "code",
   "execution_count": 68,
   "id": "1d8dc132-8839-4838-b315-810021b83861",
   "metadata": {},
   "outputs": [
    {
     "name": "stdin",
     "output_type": "stream",
     "text": [
      "ENTER ACCELERATION IN m/s** 8\n"
     ]
    }
   ],
   "source": [
    "acceleration = float(input(\"ENTER ACCELERATION IN m/s**\"))"
   ]
  },
  {
   "cell_type": "code",
   "execution_count": 72,
   "id": "27b2bdfb-a1b6-4609-8553-2865f32fe544",
   "metadata": {},
   "outputs": [],
   "source": [
    "Force = (mass * acceleration)"
   ]
  },
  {
   "cell_type": "code",
   "execution_count": 74,
   "id": "b16cc366-6cb8-49e2-bf97-b3ab51f07328",
   "metadata": {},
   "outputs": [
    {
     "name": "stdout",
     "output_type": "stream",
     "text": [
      "16.0\n"
     ]
    }
   ],
   "source": [
    "print (Force)"
   ]
  },
  {
   "cell_type": "markdown",
   "id": "870225a9-8f07-47f5-bf72-a9cef79e2b53",
   "metadata": {},
   "source": [
    "# 7) COMPOUND INTEREST"
   ]
  },
  {
   "cell_type": "code",
   "execution_count": 24,
   "id": "80beaa4c-6adf-425d-bff4-af6748431143",
   "metadata": {},
   "outputs": [
    {
     "name": "stdin",
     "output_type": "stream",
     "text": [
      "ENTER PRINCIPAL AMOUNT 23\n"
     ]
    }
   ],
   "source": [
    "P = float(input(\"ENTER PRINCIPAL AMOUNT\"))\n"
   ]
  },
  {
   "cell_type": "code",
   "execution_count": 6,
   "id": "f5085d15-ffb4-42a8-bacd-c339431e8c82",
   "metadata": {},
   "outputs": [
    {
     "name": "stdin",
     "output_type": "stream",
     "text": [
      "ANNUAL INTEREST RATE 4\n"
     ]
    }
   ],
   "source": [
    "r = float(input(\"ANNUAL INTEREST RATE\"))"
   ]
  },
  {
   "cell_type": "code",
   "execution_count": 26,
   "id": "2827f4b7-7712-4298-ac87-24bf669891ed",
   "metadata": {},
   "outputs": [
    {
     "name": "stdin",
     "output_type": "stream",
     "text": [
      "TIME IN YEAR 2002\n"
     ]
    }
   ],
   "source": [
    "T =  float(input(\"TIME IN YEAR\"))"
   ]
  },
  {
   "cell_type": "code",
   "execution_count": 11,
   "id": "670de510-f005-4b28-9cd6-369811296b68",
   "metadata": {},
   "outputs": [
    {
     "name": "stdin",
     "output_type": "stream",
     "text": [
      "NUMBER OF TIMES INTEREST IS COMPOUNDED PER YEAR 50\n"
     ]
    }
   ],
   "source": [
    "n =  float(input(\"NUMBER OF TIMES INTEREST IS COMPOUNDED PER YEAR\"))"
   ]
  },
  {
   "cell_type": "code",
   "execution_count": 28,
   "id": "4bf36aea-4859-422e-9a69-87720688c876",
   "metadata": {},
   "outputs": [],
   "source": [
    "A = (P * ( 1 + r / n )**n - T)"
   ]
  },
  {
   "cell_type": "code",
   "execution_count": 30,
   "id": "043b381f-8779-4807-a5ec-8708ce1ed7b4",
   "metadata": {},
   "outputs": [
    {
     "name": "stdout",
     "output_type": "stream",
     "text": [
      "-923.2629121956791\n"
     ]
    }
   ],
   "source": [
    "print(A)"
   ]
  },
  {
   "cell_type": "markdown",
   "id": "bfcb6c9a-4ef5-4f8f-895a-c5882097965f",
   "metadata": {},
   "source": [
    "# 8) PERIMETER OF A TRIANGLE"
   ]
  },
  {
   "cell_type": "code",
   "execution_count": 79,
   "id": "df548de5-a4b9-4788-9174-8af12e7cb157",
   "metadata": {},
   "outputs": [
    {
     "name": "stdin",
     "output_type": "stream",
     "text": [
      "ENTER FIRST SIDE LENGTH 3\n"
     ]
    }
   ],
   "source": [
    "a = float(input(\"ENTER FIRST SIDE LENGTH\"))"
   ]
  },
  {
   "cell_type": "code",
   "execution_count": 81,
   "id": "b3b46229-12f6-4708-9054-d144d8b4d961",
   "metadata": {},
   "outputs": [
    {
     "name": "stdin",
     "output_type": "stream",
     "text": [
      "ENTER SECOND SIDE LENGTH 4\n"
     ]
    }
   ],
   "source": [
    "b = float(input(\"ENTER SECOND SIDE LENGTH\"))"
   ]
  },
  {
   "cell_type": "code",
   "execution_count": 83,
   "id": "053bf277-6345-4ce8-828b-5df9ab5d9a6c",
   "metadata": {},
   "outputs": [
    {
     "name": "stdin",
     "output_type": "stream",
     "text": [
      "ENTER THIRD SIDE LENGTH 5\n"
     ]
    }
   ],
   "source": [
    "c = float(input(\"ENTER THIRD SIDE LENGTH\"))"
   ]
  },
  {
   "cell_type": "code",
   "execution_count": 85,
   "id": "828aeef7-02b8-40d3-9771-7ee53ff660a6",
   "metadata": {},
   "outputs": [],
   "source": [
    "Perimeter = a + b + c"
   ]
  },
  {
   "cell_type": "code",
   "execution_count": 87,
   "id": "effeaf05-0967-47dc-ad68-3cd2cf0eeb49",
   "metadata": {},
   "outputs": [
    {
     "name": "stdout",
     "output_type": "stream",
     "text": [
      "12.0\n"
     ]
    }
   ],
   "source": [
    "print(Perimeter)"
   ]
  },
  {
   "cell_type": "markdown",
   "id": "4a5a76f9-e2a2-4eaf-b962-10af812fd878",
   "metadata": {},
   "source": [
    "# 9) VOLUME OF A SPHERE "
   ]
  },
  {
   "cell_type": "code",
   "execution_count": 76,
   "id": "28facf43-32ca-4784-8556-a1f043b40197",
   "metadata": {},
   "outputs": [],
   "source": [
    "Pie = float(3.142)"
   ]
  },
  {
   "cell_type": "code",
   "execution_count": 78,
   "id": "c19241e6-ec51-4003-8b38-2e4afccabfd4",
   "metadata": {},
   "outputs": [
    {
     "name": "stdin",
     "output_type": "stream",
     "text": [
      "ENTER RADIUS 4\n"
     ]
    }
   ],
   "source": [
    "radius = float(input(\"ENTER RADIUS\"))"
   ]
  },
  {
   "cell_type": "code",
   "execution_count": 82,
   "id": "ec565e54-7334-43f6-9fa1-14e7d43344e6",
   "metadata": {},
   "outputs": [],
   "source": [
    " Volume = ( Pie * radius**2)* 4/3"
   ]
  },
  {
   "cell_type": "code",
   "execution_count": 111,
   "id": "00a86c2d-375b-48ef-996b-e8d0728951a0",
   "metadata": {},
   "outputs": [
    {
     "name": "stdout",
     "output_type": "stream",
     "text": [
      "67.02933333333333\n"
     ]
    }
   ],
   "source": [
    "print(Volume)"
   ]
  },
  {
   "cell_type": "markdown",
   "id": "d0b8f1c6-58de-496b-b205-0668b0a129db",
   "metadata": {},
   "source": [
    "# 10) KINETIC ENERGY"
   ]
  },
  {
   "cell_type": "code",
   "execution_count": 116,
   "id": "530e530c-44c7-4ba7-aeb6-a4565220971e",
   "metadata": {},
   "outputs": [
    {
     "name": "stdin",
     "output_type": "stream",
     "text": [
      "MASS IN KG 8\n"
     ]
    }
   ],
   "source": [
    "mass = float(input(\"MASS IN KG\"))"
   ]
  },
  {
   "cell_type": "code",
   "execution_count": 118,
   "id": "2dce33cb-c197-4caa-abeb-7d43b8580a45",
   "metadata": {},
   "outputs": [
    {
     "name": "stdin",
     "output_type": "stream",
     "text": [
      "VELOCITY IN METER PER SECOND 6\n"
     ]
    }
   ],
   "source": [
    "velocity = float(input(\"VELOCITY IN METER PER SECOND\"))"
   ]
  },
  {
   "cell_type": "code",
   "execution_count": 120,
   "id": "4f1dc0e7-95b7-4d2f-a676-25d9319466b9",
   "metadata": {},
   "outputs": [],
   "source": [
    "KE = (mass * velocity**2)*1/2"
   ]
  },
  {
   "cell_type": "code",
   "execution_count": 122,
   "id": "3f7f0cc2-7145-48fb-a437-a79abacf4b9f",
   "metadata": {},
   "outputs": [
    {
     "name": "stdout",
     "output_type": "stream",
     "text": [
      "144.0\n"
     ]
    }
   ],
   "source": [
    "print(KE)"
   ]
  },
  {
   "cell_type": "markdown",
   "id": "7ba163c2-a0ba-426a-91eb-2e649c8542ca",
   "metadata": {},
   "source": [
    "# 11) QUARDRATIC EQUATION ROOT"
   ]
  },
  {
   "cell_type": "code",
   "execution_count": 132,
   "id": "1e16a22c-b45b-491f-b70c-0a071a599908",
   "metadata": {},
   "outputs": [
    {
     "name": "stdin",
     "output_type": "stream",
     "text": [
      "ENTER VALUE OF 'A' 6\n"
     ]
    }
   ],
   "source": [
    "a = float(input(\"ENTER VALUE OF 'A'\"))"
   ]
  },
  {
   "cell_type": "code",
   "execution_count": 136,
   "id": "c7d61676-b0ef-4675-adac-2aa48372bca5",
   "metadata": {},
   "outputs": [
    {
     "name": "stdin",
     "output_type": "stream",
     "text": [
      "ENTER VALUE OF 'B' 8\n"
     ]
    }
   ],
   "source": [
    "b = float(input(\"ENTER VALUE OF 'B'\"))"
   ]
  },
  {
   "cell_type": "code",
   "execution_count": 138,
   "id": "1f92a050-7ee8-48c3-8156-88ad8dfa1d43",
   "metadata": {},
   "outputs": [
    {
     "name": "stdin",
     "output_type": "stream",
     "text": [
      "ENTER VALUE OF 'C' 7\n"
     ]
    }
   ],
   "source": [
    "c =float(input(\"ENTER VALUE OF 'C'\"))"
   ]
  },
  {
   "cell_type": "code",
   "execution_count": 150,
   "id": "6f2357d1-b057-4ac7-aa6f-156799c3c7dd",
   "metadata": {},
   "outputs": [
    {
     "ename": "SyntaxError",
     "evalue": "invalid decimal literal (4161326962.py, line 1)",
     "output_type": "error",
     "traceback": [
      "\u001b[1;36m  Cell \u001b[1;32mIn[150], line 1\u001b[1;36m\u001b[0m\n\u001b[1;33m    root = (-b +- (b**2 - 4 a c)**1/2)/ 2a\u001b[0m\n\u001b[1;37m                                        ^\u001b[0m\n\u001b[1;31mSyntaxError\u001b[0m\u001b[1;31m:\u001b[0m invalid decimal literal\n"
     ]
    }
   ],
   "source": [
    "root = (-b +- (b**2 - 4 a c)**1/2)/ 2a"
   ]
  },
  {
   "cell_type": "markdown",
   "id": "61f6e956-57e9-4747-bd17-5aaa38132948",
   "metadata": {},
   "source": [
    "# 12) TEMPERATURE CONVERSION"
   ]
  },
  {
   "cell_type": "code",
   "execution_count": 24,
   "id": "40b982de-b43c-4ffa-ac72-e41224d78104",
   "metadata": {},
   "outputs": [
    {
     "name": "stdin",
     "output_type": "stream",
     "text": [
      "ENTER VALUE OF 'TEMPERATURE'IN CELSIUS 5\n"
     ]
    }
   ],
   "source": [
    "Celcius =float(input(\"ENTER VALUE OF 'TEMPERATURE'IN CELSIUS\"))"
   ]
  },
  {
   "cell_type": "code",
   "execution_count": 26,
   "id": "d8d2d829-6d31-4e0e-837e-b74f3985dfb1",
   "metadata": {},
   "outputs": [],
   "source": [
    "Farhenheit = (1.8 * Celcius + 32)"
   ]
  },
  {
   "cell_type": "code",
   "execution_count": 28,
   "id": "552faa3e-136b-489c-b70e-c98e61db88f5",
   "metadata": {},
   "outputs": [
    {
     "name": "stdout",
     "output_type": "stream",
     "text": [
      "41.0\n"
     ]
    }
   ],
   "source": [
    "print(Farhenheit)"
   ]
  },
  {
   "cell_type": "markdown",
   "id": "744dccaf-b681-4465-85f6-0ca5757fa28d",
   "metadata": {},
   "source": [
    "# 13) GRAVITATIONAL FORCE"
   ]
  },
  {
   "cell_type": "code",
   "execution_count": 2,
   "id": "c333e059-81b8-45c8-8f9c-e4070386d39b",
   "metadata": {},
   "outputs": [
    {
     "name": "stdin",
     "output_type": "stream",
     "text": [
      "ENTER MASS OF BODY ONE 7\n"
     ]
    }
   ],
   "source": [
    "M1 = float(input(\"ENTER MASS OF BODY ONE\"))"
   ]
  },
  {
   "cell_type": "code",
   "execution_count": 4,
   "id": "6b7c693f-8686-4dd5-b4d5-d57f5d47f0ed",
   "metadata": {},
   "outputs": [
    {
     "name": "stdin",
     "output_type": "stream",
     "text": [
      "ENTER MASS OF BODY ONE 8\n"
     ]
    }
   ],
   "source": [
    "M2 = float(input(\"ENTER MASS OF BODY ONE\"))"
   ]
  },
  {
   "cell_type": "code",
   "execution_count": 6,
   "id": "3d9399ff-cde3-4345-b494-24eaacc76d85",
   "metadata": {},
   "outputs": [
    {
     "name": "stdin",
     "output_type": "stream",
     "text": [
      "ENTER RADIUS  7\n"
     ]
    }
   ],
   "source": [
    "Radius = float(input(\"ENTER RADIUS \"))"
   ]
  },
  {
   "cell_type": "code",
   "execution_count": null,
   "id": "66b5e694-5bc7-4c2f-864e-1e836687d750",
   "metadata": {},
   "outputs": [],
   "source": [
    "G_constant = (float(6.67 * 10"
   ]
  },
  {
   "cell_type": "code",
   "execution_count": null,
   "id": "4391c53b-651a-4e42-9ecb-41327c38aaaf",
   "metadata": {},
   "outputs": [],
   "source": []
  },
  {
   "cell_type": "markdown",
   "id": "cc5cafba-ad42-4110-a83b-78c0b1937847",
   "metadata": {},
   "source": [
    "# 14) VOLUME OF A CYLINDER"
   ]
  },
  {
   "cell_type": "code",
   "execution_count": 13,
   "id": "15fa00e8-5b4e-4ac2-ae6e-099c2ad619ed",
   "metadata": {},
   "outputs": [
    {
     "name": "stdin",
     "output_type": "stream",
     "text": [
      "ENTER RADIUS 5\n"
     ]
    }
   ],
   "source": [
    "radius = float(input(\"ENTER RADIUS\"))"
   ]
  },
  {
   "cell_type": "code",
   "execution_count": 15,
   "id": "f395539e-115c-4a34-9a50-e2233ce78b17",
   "metadata": {},
   "outputs": [],
   "source": [
    "pie = float(3.142)"
   ]
  },
  {
   "cell_type": "code",
   "execution_count": 27,
   "id": "823ea11c-77d8-45bc-91d3-21af1fa30e0c",
   "metadata": {},
   "outputs": [
    {
     "name": "stdin",
     "output_type": "stream",
     "text": [
      "ENTER HEIGHT 6\n"
     ]
    }
   ],
   "source": [
    "height = float(input(\"ENTER HEIGHT\"))"
   ]
  },
  {
   "cell_type": "code",
   "execution_count": 29,
   "id": "5d558e56-8e99-40d2-bc73-c6fe1187c14d",
   "metadata": {},
   "outputs": [],
   "source": [
    "Volume = (pie * height * radius**2) "
   ]
  },
  {
   "cell_type": "code",
   "execution_count": 31,
   "id": "6b84ce30-46e1-4720-afff-e338fd1c12a6",
   "metadata": {},
   "outputs": [
    {
     "name": "stdout",
     "output_type": "stream",
     "text": [
      "471.3\n"
     ]
    }
   ],
   "source": [
    "print(Volume)"
   ]
  },
  {
   "cell_type": "markdown",
   "id": "c8f1b7c4-e1fe-4b04-89b0-6a01b9e385d7",
   "metadata": {},
   "source": [
    "# 15) PRESSURE\n"
   ]
  },
  {
   "cell_type": "code",
   "execution_count": 63,
   "id": "fdcc6cc9-e85d-4250-82fe-865e07c6844d",
   "metadata": {},
   "outputs": [
    {
     "name": "stdin",
     "output_type": "stream",
     "text": [
      "ENTER FORCE 200\n"
     ]
    }
   ],
   "source": [
    "Force = float(input(\"ENTER FORCE\"))"
   ]
  },
  {
   "cell_type": "code",
   "execution_count": 65,
   "id": "018a5c9d-beb1-4934-b79c-8c89d64b7d5b",
   "metadata": {},
   "outputs": [
    {
     "name": "stdin",
     "output_type": "stream",
     "text": [
      "ENTER AREA 100\n"
     ]
    }
   ],
   "source": [
    "Area = float(input(\"ENTER AREA\"))"
   ]
  },
  {
   "cell_type": "code",
   "execution_count": 67,
   "id": "9371571b-0a00-4eea-8b94-a27420173359",
   "metadata": {},
   "outputs": [],
   "source": [
    "Pressure = (Force / Area)"
   ]
  },
  {
   "cell_type": "code",
   "execution_count": 69,
   "id": "a7880d85-8f28-4725-9807-a3e8664a03b5",
   "metadata": {},
   "outputs": [
    {
     "name": "stdout",
     "output_type": "stream",
     "text": [
      "2.0\n"
     ]
    }
   ],
   "source": [
    "print(Pressure)"
   ]
  },
  {
   "cell_type": "markdown",
   "id": "29c3b047-02e9-4711-920b-5612346d91b4",
   "metadata": {},
   "source": [
    "# 16) ELECTRIC POWER"
   ]
  },
  {
   "cell_type": "code",
   "execution_count": 74,
   "id": "816f3c32-c36f-4609-8b01-1778058bbb8f",
   "metadata": {},
   "outputs": [
    {
     "name": "stdin",
     "output_type": "stream",
     "text": [
      "ENTER VOLTAGE 4\n"
     ]
    }
   ],
   "source": [
    "Voltage = float(input(\"ENTER VOLTAGE\"))"
   ]
  },
  {
   "cell_type": "code",
   "execution_count": 76,
   "id": "c62bb328-4c9c-483f-93a5-a52d4f4a9799",
   "metadata": {},
   "outputs": [
    {
     "name": "stdin",
     "output_type": "stream",
     "text": [
      "ENTER CURRENT 6\n"
     ]
    }
   ],
   "source": [
    "Current = float(input(\"ENTER CURRENT\"))"
   ]
  },
  {
   "cell_type": "code",
   "execution_count": 78,
   "id": "6378c187-e64b-45f1-a1c4-b5af8f071e19",
   "metadata": {},
   "outputs": [],
   "source": [
    "Power = ( Voltage * Current)"
   ]
  },
  {
   "cell_type": "code",
   "execution_count": 80,
   "id": "11840783-3c12-44ca-9936-691cf2a47da9",
   "metadata": {},
   "outputs": [
    {
     "name": "stdout",
     "output_type": "stream",
     "text": [
      "24.0\n"
     ]
    }
   ],
   "source": [
    "print(Power)"
   ]
  },
  {
   "cell_type": "markdown",
   "id": "09a3d7c2-4300-4084-a414-9f1ffc5f7916",
   "metadata": {},
   "source": [
    "# 17) PERIMETER OF A CIRCLE (CIRCUMFERENCE)"
   ]
  },
  {
   "cell_type": "code",
   "execution_count": 83,
   "id": "ae549fcd-4562-4d71-a73a-32ad6bfb2331",
   "metadata": {},
   "outputs": [
    {
     "name": "stdin",
     "output_type": "stream",
     "text": [
      "ENTER RADIUS 5\n"
     ]
    }
   ],
   "source": [
    "radius = float(input(\"ENTER RADIUS\"))"
   ]
  },
  {
   "cell_type": "code",
   "execution_count": 87,
   "id": "ed59c158-d3a4-469e-901d-4a39b45a2b15",
   "metadata": {},
   "outputs": [],
   "source": [
    "pie = float(3.142)"
   ]
  },
  {
   "cell_type": "code",
   "execution_count": 89,
   "id": "e082f84b-7564-46b8-bea8-e0b209eb85d0",
   "metadata": {},
   "outputs": [],
   "source": [
    "Perimeter = (pie * radius)*2"
   ]
  },
  {
   "cell_type": "code",
   "execution_count": 91,
   "id": "ca0cf8df-380c-4bc7-b9d5-7817015bd4a7",
   "metadata": {},
   "outputs": [
    {
     "name": "stdout",
     "output_type": "stream",
     "text": [
      "31.419999999999998\n"
     ]
    }
   ],
   "source": [
    "print(Perimeter)"
   ]
  },
  {
   "cell_type": "markdown",
   "id": "cb47f715-d098-4dcf-adff-b4cbc7111149",
   "metadata": {},
   "source": [
    "# 18) FUTURE VALUE IN SAVING"
   ]
  },
  {
   "cell_type": "code",
   "execution_count": 106,
   "id": "56de7002-6069-489f-ab44-d347567c6ea4",
   "metadata": {},
   "outputs": [
    {
     "name": "stdin",
     "output_type": "stream",
     "text": [
      "ENTER ANNUAL INTEREST RATE 3.6\n"
     ]
    }
   ],
   "source": [
    "r = float(input(\"ENTER ANNUAL INTEREST RATE\"))"
   ]
  },
  {
   "cell_type": "code",
   "execution_count": 104,
   "id": "181164ec-8eb1-4a57-afd8-7c762fd3aa6e",
   "metadata": {},
   "outputs": [
    {
     "name": "stdin",
     "output_type": "stream",
     "text": [
      "ENTER TIME IN YEARS 2004\n"
     ]
    }
   ],
   "source": [
    "time = (int(float(input(\"ENTER TIME IN YEARS\"))))"
   ]
  },
  {
   "cell_type": "code",
   "execution_count": 108,
   "id": "4531b20d-31ce-49e5-8d30-874996b510a6",
   "metadata": {},
   "outputs": [
    {
     "name": "stdin",
     "output_type": "stream",
     "text": [
      "ENTER PRESENT VALUE 23\n"
     ]
    }
   ],
   "source": [
    "pv = float(input(\"ENTER PRESENT VALUE\"))"
   ]
  },
  {
   "cell_type": "code",
   "execution_count": 116,
   "id": "d6be5ca8-d8bf-407f-bf32-5969c0db00cc",
   "metadata": {},
   "outputs": [],
   "source": [
    "FV = (pv * (1 + r)*time)"
   ]
  },
  {
   "cell_type": "code",
   "execution_count": 118,
   "id": "c4ee846f-8db4-417e-8a64-2711b262d568",
   "metadata": {},
   "outputs": [
    {
     "name": "stdout",
     "output_type": "stream",
     "text": [
      "212023.19999999998\n"
     ]
    }
   ],
   "source": [
    "print(FV)"
   ]
  },
  {
   "cell_type": "markdown",
   "id": "24672524-5fe9-4703-8b81-6dbf5fdba221",
   "metadata": {},
   "source": [
    "# 19) WORK DONE BY A FORCE"
   ]
  },
  {
   "cell_type": "code",
   "execution_count": 121,
   "id": "f63d02bd-da1e-4ab7-ac5a-9a3d9ee62078",
   "metadata": {},
   "outputs": [
    {
     "name": "stdin",
     "output_type": "stream",
     "text": [
      "ENTER FORCE 6\n"
     ]
    }
   ],
   "source": [
    "force = float(input(\"ENTER FORCE\"))"
   ]
  },
  {
   "cell_type": "code",
   "execution_count": 125,
   "id": "00f2b544-93de-4e34-badd-c3512f6ac8f4",
   "metadata": {},
   "outputs": [
    {
     "name": "stdin",
     "output_type": "stream",
     "text": [
      "ENTER DISTANCE 8\n"
     ]
    }
   ],
   "source": [
    "distance = float(input(\"ENTER DISTANCE\"))"
   ]
  },
  {
   "cell_type": "code",
   "execution_count": 129,
   "id": "688d948b-6964-4288-bfb8-d44a758ebe9f",
   "metadata": {},
   "outputs": [
    {
     "name": "stdin",
     "output_type": "stream",
     "text": [
      "ENTER THETA VALUE 6.4\n"
     ]
    }
   ],
   "source": [
    "thEta  = float(input(\"ENTER THETA VALUE\"))"
   ]
  },
  {
   "cell_type": "code",
   "execution_count": null,
   "id": "869dda6b-7119-41a2-a31f-4941ee95e205",
   "metadata": {},
   "outputs": [],
   "source": [
    "work = (force * distance *"
   ]
  },
  {
   "cell_type": "markdown",
   "id": "bf702be0-417f-48d8-aa87-198ff69b3877",
   "metadata": {},
   "source": [
    "# 20) HEAT TRANSFER"
   ]
  },
  {
   "cell_type": "code",
   "execution_count": 46,
   "id": "a2e5f2f8-f29b-42a5-8254-042fad29e75f",
   "metadata": {},
   "outputs": [
    {
     "name": "stdin",
     "output_type": "stream",
     "text": [
      "ENTER MASS 34\n"
     ]
    }
   ],
   "source": [
    "m = float(input(\"ENTER MASS\"))"
   ]
  },
  {
   "cell_type": "code",
   "execution_count": 48,
   "id": "11e035c2-ca39-41a7-b40c-a41df1115f59",
   "metadata": {},
   "outputs": [
    {
     "name": "stdin",
     "output_type": "stream",
     "text": [
      "ENTER SPECIFIC HEAT CAPACITY 43\n"
     ]
    }
   ],
   "source": [
    "c = float(input(\"ENTER SPECIFIC HEAT CAPACITY\"))"
   ]
  },
  {
   "cell_type": "code",
   "execution_count": 44,
   "id": "1878e559-333b-4942-aa3b-c35363802211",
   "metadata": {},
   "outputs": [
    {
     "name": "stdin",
     "output_type": "stream",
     "text": [
      "ENTER TIME 34\n"
     ]
    }
   ],
   "source": [
    "T = float(input(\"ENTER TIME\"))"
   ]
  },
  {
   "cell_type": "code",
   "execution_count": 50,
   "id": "ffe54c96-ecef-44c8-9bfc-5cff75bfbe1c",
   "metadata": {},
   "outputs": [],
   "source": [
    "Q = ( m * c * T)"
   ]
  },
  {
   "cell_type": "code",
   "execution_count": 52,
   "id": "39ef2f96-38b0-4c19-8053-ad2043e597d3",
   "metadata": {},
   "outputs": [
    {
     "name": "stdout",
     "output_type": "stream",
     "text": [
      "49708.0\n"
     ]
    }
   ],
   "source": [
    "print(Q)"
   ]
  }
 ],
 "metadata": {
  "kernelspec": {
   "display_name": "Python 3 (ipykernel)",
   "language": "python",
   "name": "python3"
  },
  "language_info": {
   "codemirror_mode": {
    "name": "ipython",
    "version": 3
   },
   "file_extension": ".py",
   "mimetype": "text/x-python",
   "name": "python",
   "nbconvert_exporter": "python",
   "pygments_lexer": "ipython3",
   "version": "3.12.7"
  }
 },
 "nbformat": 4,
 "nbformat_minor": 5
}
