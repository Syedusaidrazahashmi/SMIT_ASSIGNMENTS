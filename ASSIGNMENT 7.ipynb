{
 "cells": [
  {
   "cell_type": "markdown",
   "id": "068231c7-713d-492c-bec8-772a145b41a5",
   "metadata": {},
   "source": [
    "### 1. Write a program that prompts the user to input a number and display if the number is even or odd."
   ]
  },
  {
   "cell_type": "code",
   "execution_count": 11,
   "id": "41b2018e-2d63-4d59-b98c-f47479b2bd6b",
   "metadata": {},
   "outputs": [
    {
     "name": "stdin",
     "output_type": "stream",
     "text": [
      "ENTER AN NUMBER 3\n"
     ]
    },
    {
     "name": "stdout",
     "output_type": "stream",
     "text": [
      "YOU ENTERED ODD NUMBER\n"
     ]
    }
   ],
   "source": [
    "user_input = int(input(\"ENTER AN NUMBER\"))\n",
    "if user_input % 2 == 0:\n",
    "    print('YOU ENTERED EVEN NUMBER')\n",
    "else:\n",
    "    print('YOU ENTERED ODD NUMBER')"
   ]
  },
  {
   "cell_type": "markdown",
   "id": "aa97be0f-0eb8-46ed-93a6-15edce691d0d",
   "metadata": {},
   "source": [
    "### 2. Write a Python program that takes an age as input and determines whether a person is eligible to vote. If the age is 18 or above, print \"You are eligible to vote.\" Otherwise, print \"You are not eligible to vote yet.\"."
   ]
  },
  {
   "cell_type": "code",
   "execution_count": 5,
   "id": "aa00cb99-ce6f-4446-88cb-6c6e1c81fe5e",
   "metadata": {},
   "outputs": [
    {
     "name": "stdin",
     "output_type": "stream",
     "text": [
      "TELL ME YOUR AGE : 21\n"
     ]
    },
    {
     "name": "stdout",
     "output_type": "stream",
     "text": [
      "YOU ARE ELIGIBLE\n",
      "vote dal sakhte ho\n",
      "NIC ban sakhta ha\n",
      "Driving License\n",
      "Shaddi ho sakhte ha\n",
      "Account open kar sakhte hen\n"
     ]
    }
   ],
   "source": [
    "Age = float(input(\"TELL ME YOUR AGE :\"))\n",
    "if Age >= 18:\n",
    "    print(\"YOU ARE ELIGIBLE\")\n",
    "    print('vote dal sakhte ho')\n",
    "    print('NIC ban sakhta ha')\n",
    "    print('Driving License')\n",
    "    print('Shaddi ho sakhte ha')\n",
    "    print('Account open kar sakhte hen')\n",
    "else:\n",
    "    print(\"YOU ARE NOT ELIGIBLE\")\n",
    "    print('Tien tien fish.....')\n",
    "    print('MOYE MOYE....')\n",
    "    "
   ]
  },
  {
   "cell_type": "markdown",
   "id": "932d74cc-785b-4c82-837f-abe4b0a5a770",
   "metadata": {},
   "source": [
    "### 3. Write a program that prompts the user to input two integers and outputs the largest."
   ]
  },
  {
   "cell_type": "code",
   "execution_count": 18,
   "id": "4b404b13-0990-424b-9696-9b12ced6c0d7",
   "metadata": {},
   "outputs": [
    {
     "name": "stdin",
     "output_type": "stream",
     "text": [
      "ENTER FIRST NUMBER 3\n",
      "ENETR SECOND NUMBER 1\n"
     ]
    },
    {
     "name": "stdout",
     "output_type": "stream",
     "text": [
      "INPUT 1 IS GREATER THAN 2 INPUT:\n"
     ]
    }
   ],
   "source": [
    "num1 = int(input(\"ENTER FIRST NUMBER\"))\n",
    "num2 = int(input(\"ENETR SECOND NUMBER\"))\n",
    "\n",
    "if num1 > num2 :\n",
    "    print(\"INPUT 1 IS GREATER THAN 2 INPUT:\")\n",
    "elif num1 < num2 :\n",
    "    print(\"INPUT 2 IS GREATER THAN 1 INPUT:\")\n",
    "else:\n",
    "    print(\"BOTH NUMBERS ARE EGUAL:::\")\n",
    " "
   ]
  },
  {
   "cell_type": "markdown",
   "id": "709cd05b-68bb-4f5d-9a54-cc4dace0cdd0",
   "metadata": {},
   "source": [
    "### 4. Write a program that prompts the user to enter a number and determines whether it is positive, negative, or zero. The program should print \"Positive\" if the number is greater than 0, \"Negative\" if the number is less than 0, and \"Zero\" if the number is 0."
   ]
  },
  {
   "cell_type": "code",
   "execution_count": 25,
   "id": "0f6a105b-be22-431f-82a6-adc5174b06e7",
   "metadata": {},
   "outputs": [
    {
     "name": "stdin",
     "output_type": "stream",
     "text": [
      "ENTER FIRST NUMBER -1\n"
     ]
    },
    {
     "name": "stdout",
     "output_type": "stream",
     "text": [
      "The number is negative:\n"
     ]
    }
   ],
   "source": [
    "input1 = int(input(\"ENTER FIRST NUMBER\"))\n",
    "\n",
    "if input1 > 1 :\n",
    "    print(\"The number is positive:\")\n",
    "elif input1 == 0:\n",
    "    print(\"The number is zero:\")\n",
    "else:\n",
    "    print(\"The number is negative:\")\n",
    " "
   ]
  },
  {
   "cell_type": "markdown",
   "id": "273a3249-45cf-4344-973a-2fede2266949",
   "metadata": {},
   "source": [
    "### 5. Write a program that prompts the user to enter their age and prints the corresponding age group. The program should use the following age groups:\n",
    "0-12: Child\n",
    "13-19: Teenager\n",
    "20-59: Adult\n",
    "60 and above: Senior Citizen"
   ]
  },
  {
   "cell_type": "code",
   "execution_count": 67,
   "id": "de371a5e-65c5-4d82-846a-9916466251d4",
   "metadata": {},
   "outputs": [
    {
     "name": "stdin",
     "output_type": "stream",
     "text": [
      "ENTER YOUR AGE::: 34\n"
     ]
    },
    {
     "name": "stdout",
     "output_type": "stream",
     "text": [
      "YOU ARE ADULT.....\n"
     ]
    }
   ],
   "source": [
    "age = float(input(\"ENTER YOUR AGE:::\"))\n",
    "if 0 <= age <= 12: \n",
    "    print('YOU ARE CHILD.....')\n",
    "elif 13 <= age <= 19: \n",
    "    print('YOU ARE TEENAGE.....')\n",
    "elif 20 <= age <= 59:\n",
    "    print('YOU ARE ADULT.....')\n",
    "else:\n",
    "    print('YOU  ARE SENIOR CITIZEN.....')\n"
   ]
  },
  {
   "cell_type": "markdown",
   "id": "0194c6d5-a75d-4f77-82c6-11daf10908c0",
   "metadata": {},
   "source": [
    "# 6. Write a program that prompts the user to input a number from 1 to 7. The program should display the corresponding day for the given number. For example, if the user types 1, the output should be Sunday. If the user types 7, the output should be Saturday. If the number is not between 1 to 7 user should get error message as shown in sample output."
   ]
  },
  {
   "cell_type": "code",
   "execution_count": 72,
   "id": "c80a29cd-f0cf-4ce3-9eec-2631d570eede",
   "metadata": {},
   "outputs": [
    {
     "name": "stdin",
     "output_type": "stream",
     "text": [
      "ENTER AN NUMBER..... 9\n"
     ]
    },
    {
     "name": "stdout",
     "output_type": "stream",
     "text": [
      "PLEASE ENTER NUMBER B/W 1 TO 7......9\n"
     ]
    }
   ],
   "source": [
    "inp = int(input(\"ENTER AN NUMBER.....\"))\n",
    "if inp == 1:\n",
    "    print(\"sunday\")\n",
    "elif inp== 2:\n",
    "    print('monday')\n",
    "elif inp == 3:\n",
    "    print('tuesday')\n",
    "elif inp == 4:\n",
    "    print('wednesday')\n",
    "elif inp == 5:\n",
    "    print('thursday')\n",
    "\n",
    "elif inp == 6:\n",
    "    print('friday')\n",
    "\n",
    "elif inp == 7:\n",
    "    print('saturday')\n",
    "\n",
    "else:\n",
    "    print(f'PLEASE ENTER NUMBER B/W 1 TO 7......{inp}')\n",
    "    "
   ]
  },
  {
   "cell_type": "markdown",
   "id": "f530eddd-f13a-4f52-9b47-255f3c42a39f",
   "metadata": {},
   "source": [
    "# 7. Write a program that prompts the user to enter their weight (in kilograms) and height (in meters). The program should calculate the Body Mass Index (BMI) using the formula: BMI = weight / (height * height). The program should then classify the BMI into one of the following categories:"
   ]
  },
  {
   "cell_type": "code",
   "execution_count": 87,
   "id": "71f17e07-78b2-4ebb-bc24-11fe70b6b79b",
   "metadata": {},
   "outputs": [
    {
     "name": "stdin",
     "output_type": "stream",
     "text": [
      "Enter weight in kg: 12000\n",
      "Enter height in meters: 230\n"
     ]
    },
    {
     "name": "stdout",
     "output_type": "stream",
     "text": [
      " Under weight BMI! \n"
     ]
    }
   ],
   "source": [
    " weight= float(input(\"Enter weight in kg:\")) \n",
    "height=float(input(\"Enter height in meters:\")) \n",
    "BMI=weight/(height *height) \n",
    "if BMI < 18.5:\n",
    "    print(\" Under weight BMI! \") \n",
    "elif 18.5 < BMI < 24.9:\n",
    "    print(\" Normal weight BMI! \") \n",
    "elif 25 < BMI < 29.9:\n",
    "    print(\" Over weight BMI! \") \n",
    "else:\n",
    "    print(\" Obesity BMI! \") "
   ]
  },
  {
   "cell_type": "markdown",
   "id": "7b16fa27-5e30-4854-bf4b-34b0d7a5399f",
   "metadata": {},
   "source": [
    "# 8. The marks obtained by a student in 3 different subjects are input by the user. Your program should calculate the average of subjects and display the grade. The student gets a grade as per the following rules:"
   ]
  },
  {
   "cell_type": "code",
   "execution_count": 92,
   "id": "2cb447ef-6227-48ca-979b-b76e08245d5f",
   "metadata": {},
   "outputs": [
    {
     "name": "stdin",
     "output_type": "stream",
     "text": [
      "Enter sub_1 marks out of 100: 12\n",
      "Enter sub_2 marks out of 100: 23\n",
      "Enter sub_3 marks out of 100: 34\n"
     ]
    },
    {
     "name": "stdout",
     "output_type": "stream",
     "text": [
      "You are fail!\n"
     ]
    },
    {
     "data": {
      "text/plain": [
       "23.0"
      ]
     },
     "execution_count": 92,
     "metadata": {},
     "output_type": "execute_result"
    }
   ],
   "source": [
    "sub_1=float(input(\"Enter sub_1 marks out of 100:\")) \n",
    "sub_2=float(input(\"Enter sub_2 marks out of 100:\")) \n",
    "sub_3=float(input(\"Enter sub_3 marks out of 100:\"))\n",
    "avg_marks=(sub_1 + sub_2 + sub_3)/3 \n",
    "if avg_marks >= 90:\n",
    "    print(\"You got A grade!\")\n",
    "elif 80 < avg_marks < 90:\n",
    "    print(\"You got B grade!\")\n",
    "elif 70 < avg_marks < 80:\n",
    "    print(\"You got C grade!\")\n",
    "elif 60 < avg_marks < 70:\n",
    "    print(\"You got D grade!\") \n",
    "\n",
    "else: \n",
    "    print(\"You are fail!\") \n",
    "avg_marks \n"
   ]
  },
  {
   "cell_type": "markdown",
   "id": "8ce5c370-7038-4229-bffc-ba8ad52cea7d",
   "metadata": {},
   "source": [
    "# 9. The roots of the quadratic equation ax2 + bx + c = 0, a ≠ 0 are given by the following formula:\n",
    "\n",
    "In this formula, the term b2\n",
    "\n",
    "- 4ac is called the discriminant. If b2\n",
    "\n",
    "- 4ac = 0, then the\n",
    "\n",
    "equation has two equal roots.\n",
    "If b2\n",
    "- 4ac > 0, the equation has two real roots. If b2\n",
    "\n",
    "- 4ac < 0, the equation has two\n",
    "\n",
    "complex roots.\n",
    "Write a program that prompts the user to input the value of a (the coefficient of x2\n",
    "), b\n",
    "(the coefficient of x), and c (the constant term) and outputs the roots of the quadratic\n",
    "equation."
   ]
  },
  {
   "cell_type": "code",
   "execution_count": 110,
   "id": "93a825af-5c4c-4305-abc0-93f75263d229",
   "metadata": {},
   "outputs": [
    {
     "name": "stdin",
     "output_type": "stream",
     "text": [
      "Enter value a: 2\n",
      "Enter value a: 45\n",
      "Enter value a: 1\n"
     ]
    },
    {
     "name": "stdout",
     "output_type": "stream",
     "text": [
      "The equation has two real roots \n",
      "    Root_1: -2020.9960415597056 \n",
      "    Root_2: 2020.9960415597056\n"
     ]
    }
   ],
   "source": [
    "a=int(float(input(\"Enter value a:\")))\n",
    "b=int(float(input(\"Enter value a:\")))\n",
    "c=int(float(input(\"Enter value a:\"))) \n",
    "dis=b**2 - (4*a*c) \n",
    "if dis == 0:\n",
    "    root_1=-b* (dis**0.5) / 2*a \n",
    "    root_2=b * (dis**0.5) / 2*a \n",
    "    print (f\"\"\"The equation has two equal roots \n",
    "    Root_1: {root_1} \n",
    "    Root_2: {root_2}\"\"\") \n",
    "elif dis > 0:\n",
    "    root_1=-b* (dis**0.5) / 2*a \n",
    "    root_2=b * (dis**0.5) / 2*a \n",
    "    print (f\"\"\"The equation has two real roots \n",
    "    Root_1: {root_1} \n",
    "    Root_2: {root_2}\"\"\")\n",
    "else:\n",
    "    real_part=-b / (2*a) \n",
    "    img_part= (dis)**0.5 / (2*a) \n",
    "    print(f\"\"\"The equation has two complex roots \n",
    "   Root_1: {real_part} + {img_part}i \n",
    "   Root_2: {real_part}-{img_part}i\"\"\") \n"
   ]
  },
  {
   "cell_type": "markdown",
   "id": "33e4e9ca-4642-4bfe-8f17-f72e27c6a348",
   "metadata": {},
   "source": [
    "# 10. Write a program that prompts the user to enter three numbers and sorts them in ascending order. The program should print the sorted numbers."
   ]
  },
  {
   "cell_type": "code",
   "execution_count": 117,
   "id": "b62e11ac-2493-4c79-8716-fcfc8bb5564c",
   "metadata": {},
   "outputs": [
    {
     "name": "stdin",
     "output_type": "stream",
     "text": [
      "ENTER FIRST NUMBER 2\n",
      "ENTER SECOND NUMBER 34\n",
      "ENTER THIRD NUMBER 45\n"
     ]
    },
    {
     "name": "stdout",
     "output_type": "stream",
     "text": [
      "Sorted numbers: 2, 34, 45\n"
     ]
    }
   ],
   "source": [
    "num1 = int(input(\"ENTER FIRST NUMBER\"))\n",
    "num2 = int(input(\"ENTER SECOND NUMBER\"))\n",
    "num3 = int(input(\"ENTER THIRD NUMBER\"))\n",
    "\n",
    "\n",
    "if num1 <= num2 and num1 <= num3:\n",
    "    if num2 <= num3:\n",
    "        print (f\"Sorted numbers: {num1}, {num2}, {num3}\") \n",
    "    else:\n",
    "        print (f\"Sorted numbers: {num1}, {num3}, {num2}\")\n",
    "    \n",
    "elif num2 <= num1 and num2 <= num3:\n",
    "    if num1 <= num3:\n",
    "       print (f\"Sorted numbers: {num2}, {num1}, {num3}\") \n",
    "    else:\n",
    "        print (f\"Sorted numbers: {num2}, {num3}, {num1}\") \n",
    "else:\n",
    "    if num1 <= num2:\n",
    "        print (f\"Sorted numbers: {num3}, {num1}, {num2}\") \n",
    "    else:\n",
    "        print (f\"Sorted numbers: {num3}, {num2}, {num1}\") \n",
    "\n",
    "\n",
    "\n",
    "\n"
   ]
  },
  {
   "cell_type": "markdown",
   "id": "2707127a-5c80-4f65-a134-b98909354298",
   "metadata": {},
   "source": [
    "# 11. Write a program that prompts the user to input three integers and outputs the largest."
   ]
  },
  {
   "cell_type": "code",
   "execution_count": 126,
   "id": "74635c17-f4d7-4c91-92da-1e6d48805fa0",
   "metadata": {},
   "outputs": [
    {
     "name": "stdin",
     "output_type": "stream",
     "text": [
      "ENTER FIRST NUMBER 1\n",
      "ENTER SECOND NUMBER 2\n",
      "ENTER THIRD NUMBER 3\n"
     ]
    },
    {
     "name": "stdout",
     "output_type": "stream",
     "text": [
      "integer 2 is greater than integer 1 and integer 3\n"
     ]
    }
   ],
   "source": [
    "num1 = int(input(\"ENTER FIRST NUMBER\"))\n",
    "num2 = int(input(\"ENTER SECOND NUMBER\"))\n",
    "num3 = int(input(\"ENTER THIRD NUMBER\"))\n",
    "\n",
    "if num1 > num2 and num3:\n",
    "    print(\"integer 1 is greater than integer 2 and integer 3\") \n",
    "elif num2 > num1 and num3:\n",
    "    print(\"integer 2 is greater than integer 1 and integer 3\") \n",
    "elif num3 > num1 and num2:\n",
    "    print(\"integer 3 is greater than integer 1 and integer 2\") \n",
    "\n",
    "else:\n",
    "    print(\"All integers are same.\") "
   ]
  },
  {
   "cell_type": "markdown",
   "id": "7689a0c0-3dc5-4fbd-9459-7835876c64de",
   "metadata": {},
   "source": [
    "# 12. Write a program that prompts the user to input a character and determine the character is vowel or consonant."
   ]
  },
  {
   "cell_type": "code",
   "execution_count": 137,
   "id": "057f53ec-bb77-4e4e-b77e-619474e28a00",
   "metadata": {},
   "outputs": [
    {
     "name": "stdin",
     "output_type": "stream",
     "text": [
      "ENTER ANY CHARACTER..... H\n"
     ]
    },
    {
     "name": "stdout",
     "output_type": "stream",
     "text": [
      "CHARACTER IS CONSONANAT\n"
     ]
    }
   ],
   "source": [
    "inp= str(input(\"ENTER ANY CHARACTER.....\"))\n",
    "vowels = ['a','e','i','o','u','A','E','I','O','U']\n",
    "\n",
    "if inp in vowels:\n",
    "    print('CHARACTER IS VOWELL')\n",
    "\n",
    "else:\n",
    "    print('CHARACTER IS CONSONANAT')"
   ]
  },
  {
   "cell_type": "markdown",
   "id": "6d2d405f-206d-42ca-81a8-f9dafd11263d",
   "metadata": {},
   "source": [
    "# 13. Write a program that prompts the user to input a year and determine whether the year is a leap year or not. Leap Years are any year that can be evenly divided by 4. A year that is evenly divisible by 100 is a leap year only if it is also evenly divisible by 400. Example:\n",
    "1992 Leap Year\n",
    "2000 Leap Year\n",
    "1900 NOT a Leap Year\n",
    "1995 NOT a Leap Year"
   ]
  },
  {
   "cell_type": "code",
   "execution_count": 145,
   "id": "772cd9f9-e433-47c3-8e41-de1cc934d651",
   "metadata": {},
   "outputs": [
    {
     "name": "stdin",
     "output_type": "stream",
     "text": [
      "Enter any year: 2000\n"
     ]
    },
    {
     "name": "stdout",
     "output_type": "stream",
     "text": [
      "It is a leap year!\n"
     ]
    }
   ],
   "source": [
    "year=int(input(\"Enter any year:\")) \n",
    "if year % 4 == 0:\n",
    "    if year % 100 == 0:\n",
    "        if year % 400 == 0:\n",
    "            print(\"It is a leap year!\")\n",
    "\n",
    "        else:\n",
    "            print(\"It is not a leap year!\")\n",
    "    else:\n",
    "        print(\"It is not a leap year!\") \n",
    "else:\n",
    "    print(\"It is not a leap year!\") \n"
   ]
  },
  {
   "cell_type": "markdown",
   "id": "203a6206-493a-4a7e-96fd-ee24975477e4",
   "metadata": {},
   "source": [
    "# 14. Write a program that prompts the user to input number of calls and calculate the monthly telephone bills as per the following rule: Minimum Rs. 200 for up to 100 calls.\n",
    "Plus Rs. 0.60 per call for next 50 calls.\n",
    "Plus Rs. 0.50 per call for next 50 calls.\n",
    "Plus Rs. 0.40 per call for any call beyond 200 calls."
   ]
  },
  {
   "cell_type": "code",
   "execution_count": 148,
   "id": "1a055d7a-7845-41ad-883d-37b5ed5a195e",
   "metadata": {},
   "outputs": [
    {
     "name": "stdin",
     "output_type": "stream",
     "text": [
      "Enter no of calls: 300\n"
     ]
    },
    {
     "name": "stdout",
     "output_type": "stream",
     "text": [
      "Your bill is 650.0\n"
     ]
    }
   ],
   "source": [
    "calls=int(input(\"Enter no of calls:\")) \n",
    "bill=500\n",
    "\n",
    "if calls <= 100:\n",
    "    print (f\"Your bill is {bill}\") \n",
    "elif 100 < calls <= 150:\n",
    "    charge=(calls-100)*0.60\n",
    "    print (f\"Your bill is {bill + charge}\") \n",
    "elif 150< calls <= 200:\n",
    "    charge=(calls-100)*0.50 \n",
    "    print (f\"Your bill is {bill + charge}\") \n",
    "else:\n",
    "    charge=(calls)*0.50\n",
    "    print (f\"Your bill is {bill + charge}\") "
   ]
  },
  {
   "cell_type": "code",
   "execution_count": null,
   "id": "429eed9f-a4ef-4f47-9652-f6c283fe6dd4",
   "metadata": {},
   "outputs": [],
   "source": []
  }
 ],
 "metadata": {
  "kernelspec": {
   "display_name": "Python 3 (ipykernel)",
   "language": "python",
   "name": "python3"
  },
  "language_info": {
   "codemirror_mode": {
    "name": "ipython",
    "version": 3
   },
   "file_extension": ".py",
   "mimetype": "text/x-python",
   "name": "python",
   "nbconvert_exporter": "python",
   "pygments_lexer": "ipython3",
   "version": "3.12.7"
  }
 },
 "nbformat": 4,
 "nbformat_minor": 5
}
