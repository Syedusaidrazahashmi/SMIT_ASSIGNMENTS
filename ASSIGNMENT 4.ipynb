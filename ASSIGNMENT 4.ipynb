{
 "cells": [
  {
   "cell_type": "markdown",
   "id": "8499ae07-88c9-4a0e-8965-5e4c40221e36",
   "metadata": {},
   "source": [
    "# List Assignment"
   ]
  },
  {
   "cell_type": "markdown",
   "id": "d20703df-13e4-429a-a459-4ea6b67826b7",
   "metadata": {},
   "source": [
    "### 1. Write a program that accepts a list from user and print the alternate element of list.  "
   ]
  },
  {
   "cell_type": "code",
   "execution_count": 13,
   "id": "83f69359-b696-498e-8594-a86bbde5bcd9",
   "metadata": {},
   "outputs": [
    {
     "name": "stdin",
     "output_type": "stream",
     "text": [
      "ENTER A LIST YOU NEED AND GIVE SPACE BETWEEN IT.... 23 34\n"
     ]
    },
    {
     "data": {
      "text/plain": [
       "['23', '34']"
      ]
     },
     "execution_count": 13,
     "metadata": {},
     "output_type": "execute_result"
    }
   ],
   "source": [
    "lst = input(\"ENTER A LIST YOU NEED AND GIVE SPACE BETWEEN IT....\")\n",
    "\n",
    "lst = lst.split()\n",
    "lst\n"
   ]
  },
  {
   "cell_type": "markdown",
   "id": "c5a76ca9-7f01-43d0-832d-99718dfca771",
   "metadata": {},
   "source": [
    "### 2. Write a program that accepts a list from user. Your program should reverse the content of list and  display it. Do not use reverse() method.  \n"
   ]
  },
  {
   "cell_type": "code",
   "execution_count": 8,
   "id": "1855b920-082f-4019-8de5-7a348ef09900",
   "metadata": {},
   "outputs": [
    {
     "name": "stdin",
     "output_type": "stream",
     "text": [
      "ENTER A LIST YOU NEED AND GIVE SPACE BETWEEN IT.... 23 54 65 76 87\n"
     ]
    },
    {
     "data": {
      "text/plain": [
       "['87', '76', '65', '54', '23']"
      ]
     },
     "execution_count": 8,
     "metadata": {},
     "output_type": "execute_result"
    }
   ],
   "source": [
    "lst = input(\"ENTER A LIST YOU NEED AND GIVE SPACE BETWEEN IT....\")\n",
    "\n",
    "lst = lst.split()\n",
    "lst[::-1]\n"
   ]
  },
  {
   "cell_type": "markdown",
   "id": "b2451f8c-665c-44d8-9ca1-c6e2e4e094dc",
   "metadata": {},
   "source": [
    "###  3. Find and display the largest number of a list without using built-in function max(). Your program  should ask the user to input values in list from keyboard.  \n"
   ]
  },
  {
   "cell_type": "code",
   "execution_count": 2,
   "id": "cf2f363e-bab7-4ee8-b329-b55f257b73a5",
   "metadata": {},
   "outputs": [
    {
     "name": "stdin",
     "output_type": "stream",
     "text": [
      "ENTER A LIST YOU NEED AND GIVE SPACE BETWEEN IT.... 3 7 98 98\n"
     ]
    },
    {
     "name": "stdout",
     "output_type": "stream",
     "text": [
      "98.0\n"
     ]
    }
   ],
   "source": [
    "nums = []\n",
    "Number = input(\"ENTER A LIST YOU NEED AND GIVE SPACE BETWEEN IT....\")\n",
    "for a in Number.split():\n",
    "    if '' in a:\n",
    "        nums.append(float(a))\n",
    "    else:\n",
    "        nums.append(int(a))\n",
    "nums1 = sorted(nums)\n",
    "print(nums1[-1])\n"
   ]
  },
  {
   "cell_type": "markdown",
   "id": "52bad1bf-ae80-44a8-b384-55bb77cf3c55",
   "metadata": {},
   "source": [
    "### 4. Write a program that rotates the element of a list so that the element at the first index moves to the  second index, the element in the second index moves to the third index, etc., and the element in the last  index moves to the first index.  "
   ]
  },
  {
   "cell_type": "code",
   "execution_count": 14,
   "id": "830c227d-2318-403f-bfe8-6d3caeffdd49",
   "metadata": {},
   "outputs": [
    {
     "name": "stdin",
     "output_type": "stream",
     "text": [
      "ENTER A LIST YOU NEED AND GIVE SPACE BETWEEN IT.... a b c\n"
     ]
    },
    {
     "name": "stdout",
     "output_type": "stream",
     "text": [
      "['c', 'a', 'b']\n"
     ]
    }
   ],
   "source": [
    "lst = input(\"ENTER A LIST YOU NEED AND GIVE SPACE BETWEEN IT....\")\n",
    "\n",
    "lst = lst.split()\n",
    "lst\n",
    "lst1 = lst[-1:]+ lst[:-1]\n",
    "print(lst1)"
   ]
  },
  {
   "cell_type": "markdown",
   "id": "abf97c39-b6b7-497e-a18a-03ae77c5f61e",
   "metadata": {},
   "source": [
    "### 5. Write a program that input a string and ask user to delete a given word from a string. "
   ]
  },
  {
   "cell_type": "code",
   "execution_count": 6,
   "id": "89b8b1a0-eecd-4333-ab96-6bb5cf6e183c",
   "metadata": {},
   "outputs": [
    {
     "name": "stdin",
     "output_type": "stream",
     "text": [
      "ENTER A LIST YOU NEED AND GIVE SPACE BETWEEN IT.... ALI AHMAD MAVIYA\n",
      "Enter a word to delete: MAVIYA\n"
     ]
    },
    {
     "data": {
      "text/plain": [
       "['ALI', 'AHMAD']"
      ]
     },
     "execution_count": 6,
     "metadata": {},
     "output_type": "execute_result"
    }
   ],
   "source": [
    "lst = input(\"ENTER A LIST YOU NEED AND GIVE SPACE BETWEEN IT....\")\n",
    "\n",
    "lst = lst.split()\n",
    "\n",
    "word=input(\"Enter a word to delete:\") \n",
    "lst.remove(word) \n",
    "lst \n"
   ]
  },
  {
   "cell_type": "code",
   "execution_count": 5,
   "id": "6b3100f1-d47f-4d62-8275-887b397ed133",
   "metadata": {},
   "outputs": [],
   "source": [
    "def delword(txt,wrd):\n",
    "    if wrd in txt:\n",
    "        return txt.replace(wrd,'').strip()\n",
    "\n",
    "    \n",
    "\n",
    "    else:\n",
    "         return f'WORD {txt} NOR FOUND IN TEXT'\n",
    "    "
   ]
  },
  {
   "cell_type": "code",
   "execution_count": 7,
   "id": "001efca7-a882-4390-89ce-7bd5a8d07fce",
   "metadata": {},
   "outputs": [
    {
     "data": {
      "text/plain": [
       "'WORD hello world NOR FOUND IN TEXT'"
      ]
     },
     "execution_count": 7,
     "metadata": {},
     "output_type": "execute_result"
    }
   ],
   "source": [
    "delword('hello world','MAVIYA HELLO')"
   ]
  },
  {
   "cell_type": "markdown",
   "id": "21717e2b-fec2-4e34-99a6-8f6183b4ecfe",
   "metadata": {},
   "source": [
    "### 6. Write a program that reads a string from the user containing a date in the form mm/dd/yyyy. It should print the date in the form March 12, 2021. \n"
   ]
  },
  {
   "cell_type": "code",
   "execution_count": 34,
   "id": "192a1b43-c605-4fa7-b26c-601b0cc34b9e",
   "metadata": {},
   "outputs": [
    {
     "name": "stdin",
     "output_type": "stream",
     "text": [
      "ENTER A DATE IN FORMAT mm/dd/yyyy 1/23/2009\n"
     ]
    },
    {
     "name": "stdout",
     "output_type": "stream",
     "text": [
      " Jan 23,2009\n"
     ]
    }
   ],
   "source": [
    "months = {1:'Jan',2:'Feb',3:'March',4:'April',5:'May',6:'June',7:'July',8:'Aug',9:'Sep',10:'Oct',11:'Nov',12:'Dec'}\n",
    "date = input('ENTER A DATE IN FORMAT mm/dd/yyyy').split('/')\n",
    "print(f' {months.get(int(date[0]))} {(date[1])},{date[2]}')"
   ]
  },
  {
   "cell_type": "markdown",
   "id": "ac7652f7-3665-4ad1-aa44-1ab38396c8be",
   "metadata": {},
   "source": [
    "### 7. Write a program with a function that accepts a string from keyboard and create a new string after converting character of each word capitalized. For instance, if the sentence is \"stop and smell the roses.\" the output should be \"Stop And Smell The Roses\" "
   ]
  },
  {
   "cell_type": "code",
   "execution_count": 34,
   "id": "ea81bbfc-9f43-40fa-81aa-0521ba2e33b3",
   "metadata": {},
   "outputs": [
    {
     "name": "stdin",
     "output_type": "stream",
     "text": [
      "Enter a sentence:  stop and smell the roses.\"\n"
     ]
    },
    {
     "name": "stdout",
     "output_type": "stream",
     "text": [
      "Capitalized sentence: Stop And Smell The Roses.\"\n"
     ]
    }
   ],
   "source": [
    "def capitalize_words(sentence):\n",
    "    # Split the sentence into words\n",
    "    words = sentence.split()\n",
    "    \n",
    "    # Capitalize each word and join them back together\n",
    "    capitalized_sentence = ' '.join(word.capitalize() for word in words)\n",
    "    \n",
    "    return capitalized_sentence\n",
    "\n",
    "# Get input from the user\n",
    "sentence = input(\"Enter a sentence: \")\n",
    "\n",
    "# Call the function and display the result\n",
    "result = capitalize_words(sentence)\n",
    "print(\"Capitalized sentence:\", result)\n"
   ]
  },
  {
   "cell_type": "code",
   "execution_count": 37,
   "id": "996ad654-9dd2-4663-a0d4-bd0b20cfd001",
   "metadata": {},
   "outputs": [
    {
     "name": "stdin",
     "output_type": "stream",
     "text": [
      "Enter any sentence: my name is maviuya\n"
     ]
    },
    {
     "ename": "TypeError",
     "evalue": "unsupported operand type(s) for -: 'dict' and 'str'",
     "output_type": "error",
     "traceback": [
      "\u001b[1;31m---------------------------------------------------------------------------\u001b[0m",
      "\u001b[1;31mTypeError\u001b[0m                                 Traceback (most recent call last)",
      "Cell \u001b[1;32mIn[37], line 2\u001b[0m\n\u001b[0;32m      1\u001b[0m text\u001b[38;5;241m=\u001b[39m {}\n\u001b[1;32m----> 2\u001b[0m text\u001b[38;5;241m-\u001b[39m\u001b[38;5;28minput\u001b[39m(\u001b[38;5;124m\"\u001b[39m\u001b[38;5;124mEnter any sentence:\u001b[39m\u001b[38;5;124m\"\u001b[39m) \n\u001b[0;32m      3\u001b[0m text\u001b[38;5;241m=\u001b[39mtext\u001b[38;5;241m.\u001b[39msplit()\n",
      "\u001b[1;31mTypeError\u001b[0m: unsupported operand type(s) for -: 'dict' and 'str'"
     ]
    }
   ],
   "source": [
    "text= {}\n",
    "text-input(\"Enter any sentence:\") \n",
    "text=text.split() \n"
   ]
  },
  {
   "cell_type": "markdown",
   "id": "ce4ada61-a417-40bc-bf97-8e121d879a9e",
   "metadata": {},
   "source": [
    "### 8. Find the sum of each row of matrix of size m x n. For example for the following matrix output will be "
   ]
  },
  {
   "cell_type": "code",
   "execution_count": 55,
   "id": "1dabeb81-b80a-4532-a291-26f149046470",
   "metadata": {},
   "outputs": [
    {
     "name": "stdout",
     "output_type": "stream",
     "text": [
      "18\n",
      "12\n",
      "25\n"
     ]
    }
   ],
   "source": [
    "matrix=[[5,6,7], \n",
    "[4,5,3], \n",
    "[7,8,10]] \n",
    "sum_row1=sum(matrix[0]) #index wise call\n",
    "sum_row2=sum(matrix[1]) #index wise call\n",
    "sum_row3=sum(matrix[2]) #index wise call\n",
    "print(sum_row1) \n",
    "print(sum_row2) \n",
    "print(sum_row3) \n"
   ]
  },
  {
   "cell_type": "markdown",
   "id": "a9c65b60-dfeb-4649-8673-00c896432586",
   "metadata": {},
   "source": [
    "### 9. Write a program to add two matrices of size n x m. \n"
   ]
  },
  {
   "cell_type": "code",
   "execution_count": 26,
   "id": "e37caf01-2125-44c1-8fa0-f5f967574584",
   "metadata": {},
   "outputs": [
    {
     "name": "stdout",
     "output_type": "stream",
     "text": [
      "Matrix1:\n",
      "[1, 2, 3]\n",
      "[4, 5, 6]\n",
      "[7, 8, 9]\n",
      "\n",
      "Matrix2:\n",
      "[1, 4, 3]\n",
      "[8, 2, 6]\n",
      "[9, 7, 4]\n",
      "\n",
      "Result (Matrix1 * Matrix2):\n",
      "[44, 29, 27]\n",
      "[98, 68, 66]\n",
      "[152, 107, 105]\n"
     ]
    }
   ],
   "source": [
    "matrix1 = [[1, 2, 3], \n",
    "           [4, 5, 6], \n",
    "           [7, 8, 9]] \n",
    "\n",
    "matrix2 = [[1, 4, 3], \n",
    "           [8, 2, 6], \n",
    "           [9, 7, 4]] \n",
    "\n",
    "# Initialize result matrix with zeroes\n",
    "result = [[0 for _ in range(len(matrix2[0]))] for _ in range(len(matrix1))]\n",
    "\n",
    "# Matrix multiplication\n",
    "for i in range(len(matrix1)):  # Iterate over rows of matrix1\n",
    "    for j in range(len(matrix2[0])):  # Iterate over columns of matrix2\n",
    "        result[i][j] = sum(matrix1[i][k] * matrix2[k][j] for k in range(len(matrix2)))\n",
    "\n",
    "# Printing the matrices and result\n",
    "print(\"Matrix1:\")\n",
    "for row in matrix1:\n",
    "    print(row)\n",
    "\n",
    "print(\"\\nMatrix2:\")\n",
    "for row in matrix2:\n",
    "    print(row)\n",
    "\n",
    "print(\"\\nResult (Matrix1 * Matrix2):\")\n",
    "for row in result:\n",
    "    print(row)\n"
   ]
  },
  {
   "cell_type": "code",
   "execution_count": null,
   "id": "41b4516a-c188-4965-867a-cd1e7eb306f4",
   "metadata": {},
   "outputs": [],
   "source": []
  },
  {
   "cell_type": "code",
   "execution_count": null,
   "id": "4fd89554-8931-4346-bf99-a5a4a85adf7d",
   "metadata": {},
   "outputs": [],
   "source": []
  }
 ],
 "metadata": {
  "kernelspec": {
   "display_name": "Python 3 (ipykernel)",
   "language": "python",
   "name": "python3"
  },
  "language_info": {
   "codemirror_mode": {
    "name": "ipython",
    "version": 3
   },
   "file_extension": ".py",
   "mimetype": "text/x-python",
   "name": "python",
   "nbconvert_exporter": "python",
   "pygments_lexer": "ipython3",
   "version": "3.12.7"
  }
 },
 "nbformat": 4,
 "nbformat_minor": 5
}
