{
 "cells": [
  {
   "cell_type": "markdown",
   "id": "65dd2df4-b441-4784-a326-e6e1d3678d7a",
   "metadata": {},
   "source": [
    "# PHYTHON IF ELSE PRACTICE QUESTIONS"
   ]
  },
  {
   "cell_type": "markdown",
   "id": "d1b2ea2b-f903-45d6-ad98-fa207a4a0258",
   "metadata": {
    "jp-MarkdownHeadingCollapsed": true
   },
   "source": [
    "# 1) DISCOUNTS AND PRICING"
   ]
  },
  {
   "cell_type": "code",
   "execution_count": null,
   "id": "329986fa-77c7-4684-9216-b9e595228ed7",
   "metadata": {},
   "outputs": [
    {
     "name": "stdout",
     "output_type": "stream",
     "text": [
      "ENTER THE PRICE OF ITEM: $  23\n",
      "ENTER THE PRICE OF ITEM:  $ 45\n",
      "ENTER THE PRICE OF ITEM:  $ 65\n",
      "ENTER THE PRICE OF ITEM:  $ 76\n",
      "ENTER THE PRICE OF ITEM:  $ 78\n"
     ]
    },
    {
     "name": "stdout",
     "output_type": "stream",
     "text": [
      "\n",
      "      IMTIAZ SUPER STORE\n",
      "      ___________________\n",
      "      ITEM1:23.0\n",
      "      ITEM2:45.0\n",
      "      ITEM3:65.0\n",
      "      ITEM4:76.0\n",
      "      ITEM5:78.0\n",
      "\n",
      "      your total bill: 287.0\n",
      "      DISCOUNT APPLIED:28.700000000000003%\n",
      "      PAYABLE: 258.3\n",
      "\n",
      "      THANKS YOU FOR SHOPPING WITH US:\n",
      "      \n"
     ]
    }
   ],
   "source": [
    " item1 = float(input(\"ENTER THE PRICE OF ITEM: $ \"))\n",
    "item2 = float(input(\"ENTER THE PRICE OF ITEM:  $\"))\n",
    "item3 = float(input(\"ENTER THE PRICE OF ITEM:  $\"))\n",
    "item4 = float(input(\"ENTER THE PRICE OF ITEM:  $\"))\n",
    "item5 = float(input(\"ENTER THE PRICE OF ITEM:  $\"))\n",
    "total_purchase = item1 + item2 +item3 + item4 + item5\n",
    "\n",
    "\n",
    "discount = 0\n",
    "if total_purchase >= 100:\n",
    "   discount = total_purchase * 0.10\n",
    "\n",
    "\n",
    "    \n",
    "    \n",
    "elif total_purchase <= 100:\n",
    "    \n",
    "    discount= total_purchase* 0\n",
    "\n",
    "\n",
    "print (f\"\"\"\n",
    "       IMTIAZ SUPER STORE\n",
    "       ___________________\n",
    "       ITEM1:{item1}\n",
    "       ITEM2:{item2}\n",
    "       ITEM3:{item3}\n",
    "       ITEM4:{item4}\n",
    "       ITEM5:{item5}\n",
    "\n",
    "       your total bill: {total_purchase}\n",
    "       DISCOUNT APPLIED:{discount}%\n",
    "       PAYABLE: {total_purchase - discount}\n",
    "\n",
    "       THANKS YOU FOR SHOPPING WITH US:\n",
    "       \"\"\")\n",
    "       \n",
    "\n",
    "    \n",
    "\n"
   ]
  },
  {
   "cell_type": "code",
   "execution_count": null,
   "id": "0bd66436-06e1-4fa7-8758-91522cd0f333",
   "metadata": {},
   "outputs": [],
   "source": [
    "Calculate Bulk Discount\n",
    "If a customer buys more than 5 items, apply a 15% discount on the total price. Otherwise, no discount is applied. Display the total price."
   ]
  },
  {
   "cell_type": "markdown",
   "id": "44ba5d24-dcb9-435d-b75f-e971671fc8fc",
   "metadata": {},
   "source": [
    "# 2) CLACULATE BULK DISCOUNT"
   ]
  },
  {
   "cell_type": "code",
   "execution_count": 81,
   "id": "1148409d-1a5c-4692-b234-20c5e4323e09",
   "metadata": {},
   "outputs": [
    {
     "name": "stdout",
     "output_type": "stream",
     "text": [
      "PRICE OF PRODUCT 34\n",
      "ITEMS PURCHASE:  32\n"
     ]
    },
    {
     "name": "stdout",
     "output_type": "stream",
     "text": [
      "\n",
      "      HASSAN BULK STORE\n",
      "      ___________________\n",
      "      :23.0\n",
      "      \n",
      "      your total bill: 32.0\n",
      "      DISCOUNT APPLIED:163.2%\n",
      "      TOTAL BILL:1088.0\n",
      "\n",
      "      THANKS YOU FOR SHOPPING WITH US:\n",
      "      \n"
     ]
    }
   ],
   "source": [
    " price_purchase_product =float(input(\"PRICE OF PRODUCT\"))\n",
    "customer_purchase =float(input(\"ITEMS PURCHASE: \"))\n",
    "discount= 0\n",
    "purchase_price = price_purchase_product * customer_purchase\n",
    "\n",
    "if customer_purchase >= 5:\n",
    "    discount = purchase_price * 0.15\n",
    "\n",
    "elif customer_purchase<= 5:\n",
    "    \n",
    "    discount = purchase_price * 0\n",
    "    \n",
    "\n",
    "\n",
    "\n",
    "print (f\"\"\"\n",
    "       HASSAN BULK STORE\n",
    "       ___________________\n",
    "       :{item1}\n",
    "       \n",
    "       your total bill: {customer_purchase}\n",
    "       DISCOUNT APPLIED:{discount}%\n",
    "       TOTAL BILL:{price_purchase_product * customer_purchase}\n",
    "\n",
    "       THANKS YOU FOR SHOPPING WITH US:\n",
    "       \"\"\")\n",
    "       \n"
   ]
  },
  {
   "cell_type": "code",
   "execution_count": null,
   "id": "849d5155-6901-454b-986a-3bf56a753f2a",
   "metadata": {},
   "outputs": [],
   "source": []
  },
  {
   "cell_type": "code",
   "execution_count": null,
   "id": "00870656-2ddf-43f8-97cc-ea1683499e1e",
   "metadata": {},
   "outputs": [],
   "source": []
  },
  {
   "cell_type": "code",
   "execution_count": null,
   "id": "5cc67426-8cb2-49c9-af33-8e8821810b3a",
   "metadata": {},
   "outputs": [],
   "source": []
  },
  {
   "cell_type": "code",
   "execution_count": null,
   "id": "07e6cec3-7c81-46ed-ada5-44d8490a7f31",
   "metadata": {},
   "outputs": [],
   "source": []
  },
  {
   "cell_type": "code",
   "execution_count": null,
   "id": "b140dcd7-9596-4155-a449-14600ff45b46",
   "metadata": {},
   "outputs": [],
   "source": []
  },
  {
   "cell_type": "code",
   "execution_count": null,
   "id": "18665494-8fd1-4e46-b138-4121f4e7ade6",
   "metadata": {},
   "outputs": [],
   "source": []
  },
  {
   "cell_type": "code",
   "execution_count": null,
   "id": "9e506e32-845c-46d1-a491-05a501269654",
   "metadata": {},
   "outputs": [],
   "source": []
  }
 ],
 "metadata": {
  "kernelspec": {
   "display_name": "Python 3 (ipykernel)",
   "language": "python",
   "name": "python3"
  },
  "language_info": {
   "codemirror_mode": {
    "name": "ipython",
    "version": 3
   },
   "file_extension": ".py",
   "mimetype": "text/x-python",
   "name": "python",
   "nbconvert_exporter": "python",
   "pygments_lexer": "ipython3",
   "version": "3.12.7"
  }
 },
 "nbformat": 4,
 "nbformat_minor": 5
}
