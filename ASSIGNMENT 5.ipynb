{
 "cells": [
  {
   "cell_type": "markdown",
   "id": "c995d406-77cb-41b6-b2a8-bb9ddd1666dc",
   "metadata": {},
   "source": [
    "# Looping Structures  \n"
   ]
  },
  {
   "cell_type": "markdown",
   "id": "e2d34029-c1b1-484a-9257-7a98f5252763",
   "metadata": {},
   "source": [
    "### 1. Write a Python program to print the numbers from 1 to 10 using a for loop.  \n"
   ]
  },
  {
   "cell_type": "code",
   "execution_count": 7,
   "id": "52166c0b-b0c3-4b5d-b58e-776f19cb448e",
   "metadata": {},
   "outputs": [
    {
     "name": "stdout",
     "output_type": "stream",
     "text": [
      "0\n",
      "1\n",
      "2\n",
      "3\n",
      "4\n",
      "5\n",
      "6\n",
      "7\n",
      "8\n",
      "9\n",
      "10\n"
     ]
    }
   ],
   "source": [
    "for a in range(0,11):\n",
    "    print(a)\n",
    "    "
   ]
  },
  {
   "cell_type": "markdown",
   "id": "fd16b083-7678-4f59-afb6-6760a7796d37",
   "metadata": {},
   "source": [
    "### 2. Write a Python program to print the numbers from 20 to 1 using a while loop."
   ]
  },
  {
   "cell_type": "code",
   "execution_count": 32,
   "id": "f02baecc-822a-4be4-9b01-a9443e343154",
   "metadata": {},
   "outputs": [
    {
     "name": "stdout",
     "output_type": "stream",
     "text": [
      "20\n",
      "19\n",
      "18\n",
      "17\n",
      "16\n",
      "15\n",
      "14\n",
      "13\n",
      "12\n",
      "11\n",
      "10\n",
      "9\n",
      "8\n",
      "7\n",
      "6\n",
      "5\n",
      "4\n",
      "3\n",
      "2\n",
      "1\n"
     ]
    }
   ],
   "source": [
    "for num in range(20,0,-1):\n",
    "      print(num)"
   ]
  },
  {
   "cell_type": "markdown",
   "id": "9ab4fe50-ac25-4173-abf8-17444750a1cd",
   "metadata": {},
   "source": [
    "### 3. Write a program to print even numbers from 1 to 10."
   ]
  },
  {
   "cell_type": "code",
   "execution_count": 39,
   "id": "08c9babd-cd40-419e-9031-edcfcf09bf93",
   "metadata": {},
   "outputs": [
    {
     "name": "stdout",
     "output_type": "stream",
     "text": [
      "0\n",
      "2\n",
      "4\n",
      "6\n",
      "8\n"
     ]
    }
   ],
   "source": [
    "for num in range(0,10,2):\n",
    "      print(num)"
   ]
  },
  {
   "cell_type": "markdown",
   "id": "3d069f02-c3aa-48e9-b477-37d6c78e4067",
   "metadata": {},
   "source": [
    "### 4. Write a program that prompts the user to enter a number n and prints all the numbers from 1 to n."
   ]
  },
  {
   "cell_type": "code",
   "execution_count": 52,
   "id": "e16f24dd-b4a8-404d-b904-2b42a582949d",
   "metadata": {},
   "outputs": [
    {
     "name": "stdin",
     "output_type": "stream",
     "text": [
      "ENTER NUMBER `n` 23\n"
     ]
    },
    {
     "name": "stdout",
     "output_type": "stream",
     "text": [
      "1\n",
      "2\n",
      "3\n",
      "4\n",
      "5\n",
      "6\n",
      "7\n",
      "8\n",
      "9\n",
      "10\n",
      "11\n",
      "12\n",
      "13\n",
      "14\n",
      "15\n",
      "16\n",
      "17\n",
      "18\n",
      "19\n",
      "20\n",
      "21\n",
      "22\n",
      "23\n"
     ]
    }
   ],
   "source": [
    "num = int(input('ENTER NUMBER `n`'))\n",
    "n =0\n",
    "for a in range(1,num+1):\n",
    "    print(a)"
   ]
  },
  {
   "cell_type": "markdown",
   "id": "d23ecc0f-3ac8-4e37-9309-7cf8bccb3b29",
   "metadata": {},
   "source": [
    "### 5. Write a program that prompts the user to enter a number n, and then prints all the odd numbers between 1 and n."
   ]
  },
  {
   "cell_type": "code",
   "execution_count": 60,
   "id": "2aee4592-1a59-4abc-9599-d1a7a5c6d280",
   "metadata": {},
   "outputs": [
    {
     "name": "stdin",
     "output_type": "stream",
     "text": [
      "ENTER NUMBER `n` 34\n"
     ]
    },
    {
     "name": "stdout",
     "output_type": "stream",
     "text": [
      "1\n",
      "3\n",
      "5\n",
      "7\n",
      "9\n",
      "11\n",
      "13\n",
      "15\n",
      "17\n",
      "19\n",
      "21\n",
      "23\n",
      "25\n",
      "27\n",
      "29\n",
      "31\n",
      "33\n"
     ]
    }
   ],
   "source": [
    "num = int(input('ENTER NUMBER `n`'))\n",
    "n =0\n",
    "for a in range(1,num+1,2):\n",
    "    print(a)"
   ]
  },
  {
   "cell_type": "markdown",
   "id": "c3e16641-0921-4282-9c53-d6eadfb879d0",
   "metadata": {},
   "source": [
    "### 6. Write a program that prints 'Happy Birthday!' five times on screen."
   ]
  },
  {
   "cell_type": "code",
   "execution_count": 67,
   "id": "75bec14d-7d0b-4d0d-b28f-ace7d077ccec",
   "metadata": {},
   "outputs": [
    {
     "name": "stdout",
     "output_type": "stream",
     "text": [
      "Happy Birthday!\n",
      "Happy Birthday!\n",
      "Happy Birthday!\n",
      "Happy Birthday!\n",
      "Happy Birthday!\n"
     ]
    }
   ],
   "source": [
    "for a in range(1,6):\n",
    "    print('Happy Birthday!')"
   ]
  },
  {
   "cell_type": "markdown",
   "id": "b551eec3-b21e-4def-b4a9-498350f8df77",
   "metadata": {},
   "source": [
    "### 7. Write a program that takes a number n as input from the user and generates the first n terms of the series formed by squaring the natural numbers."
   ]
  },
  {
   "cell_type": "code",
   "execution_count": 85,
   "id": "379a8f42-b574-432c-88d3-11eff1aff531",
   "metadata": {},
   "outputs": [
    {
     "name": "stdin",
     "output_type": "stream",
     "text": [
      "ENTER NUMBER `n` 2\n"
     ]
    },
    {
     "name": "stdout",
     "output_type": "stream",
     "text": [
      "1\n",
      "4\n"
     ]
    }
   ],
   "source": [
    "n = int(input('ENTER NUMBER `n`'))\n",
    "for i in range(1,n+1):\n",
    "    print(i**2)"
   ]
  },
  {
   "cell_type": "markdown",
   "id": "5e89ebe0-8312-4349-bf47-752a6b072583",
   "metadata": {},
   "source": [
    "### 8. Write a program that prompts the user to input a number and prints its multiplication table."
   ]
  },
  {
   "cell_type": "code",
   "execution_count": 92,
   "id": "f9247682-092e-4da3-a6e7-9d93fe1767b1",
   "metadata": {},
   "outputs": [
    {
     "name": "stdin",
     "output_type": "stream",
     "text": [
      "ENTER NUMBER `n` 89\n"
     ]
    },
    {
     "name": "stdout",
     "output_type": "stream",
     "text": [
      "89 * 1 = 89\n",
      "89 * 2 = 178\n",
      "89 * 3 = 267\n",
      "89 * 4 = 356\n",
      "89 * 5 = 445\n",
      "89 * 6 = 534\n",
      "89 * 7 = 623\n",
      "89 * 8 = 712\n",
      "89 * 9 = 801\n",
      "89 * 10 = 890\n"
     ]
    }
   ],
   "source": [
    "n = int(input('ENTER NUMBER `n`'))\n",
    "for i in range(1,11):\n",
    "    print(f'{n} * {i} = {n *i}')"
   ]
  },
  {
   "cell_type": "markdown",
   "id": "298c4cf8-b0b1-4094-8a4f-7a25ba9cef07",
   "metadata": {},
   "source": [
    "### 9. Write a Python program to print the first 8 terms of an arithmetic progression starting with 3 and having a common difference of 4."
   ]
  },
  {
   "cell_type": "code",
   "execution_count": 95,
   "id": "1adc93e2-697f-4be3-b2ab-9a007a05a63f",
   "metadata": {},
   "outputs": [
    {
     "name": "stdout",
     "output_type": "stream",
     "text": [
      "1\n",
      "5\n",
      "9\n",
      "13\n",
      "17\n",
      "21\n",
      "25\n",
      "29\n",
      "33\n"
     ]
    }
   ],
   "source": [
    "for n in range (1,35,4):\n",
    "    print (n)"
   ]
  },
  {
   "cell_type": "markdown",
   "id": "878c50f1-6b6d-483f-a827-922928baa121",
   "metadata": {},
   "source": [
    "### 10. Write a Python program to print the first 6 terms of a geometric sequence starting with 2 and having a common ratio of 3."
   ]
  },
  {
   "cell_type": "code",
   "execution_count": 102,
   "id": "85062db1-bdd1-4301-9c03-20e5d0a58a12",
   "metadata": {},
   "outputs": [
    {
     "name": "stdout",
     "output_type": "stream",
     "text": [
      "2\n",
      "6\n",
      "18\n",
      "54\n",
      "162\n",
      "486\n"
     ]
    }
   ],
   "source": [
    "# Initial term and common ratio\n",
    "a = 2\n",
    "r = 3\n",
    "\n",
    "# Printing the first 6 terms of the geometric sequence\n",
    "for i in range(6):\n",
    "    term = a * (r ** i)  # nth term formula: a * r^i\n",
    "    print(term)\n"
   ]
  },
  {
   "cell_type": "markdown",
   "id": "db84f28f-555a-4b0f-b767-7cb34ca92b0d",
   "metadata": {},
   "source": [
    "### 11. Write a program that asks the user for a positive integer value. The program should calculate the sum of all the integers from 1 up to the number entered. For example, if the user enters 20, the loop will find the sum of 1, 2, 3, 4, ... 20."
   ]
  },
  {
   "cell_type": "code",
   "execution_count": 114,
   "id": "35211824-9942-442d-b140-84115e4976a9",
   "metadata": {},
   "outputs": [
    {
     "name": "stdin",
     "output_type": "stream",
     "text": [
      "ENTER NUMBER  23\n"
     ]
    },
    {
     "name": "stdout",
     "output_type": "stream",
     "text": [
      "1\n",
      "3\n",
      "6\n",
      "10\n",
      "15\n",
      "21\n",
      "28\n",
      "36\n",
      "45\n",
      "55\n",
      "66\n",
      "78\n",
      "91\n",
      "105\n",
      "120\n",
      "136\n",
      "153\n",
      "171\n",
      "190\n",
      "210\n",
      "231\n",
      "253\n",
      "276\n"
     ]
    }
   ],
   "source": [
    "n = int(input('ENTER NUMBER '))\n",
    "i= 0\n",
    "for x in range(1,n+1):\n",
    "    i += x\n",
    "    print(i)"
   ]
  },
  {
   "cell_type": "code",
   "execution_count": 112,
   "id": "a0f1cef7-262e-4f96-9167-121ed6145a9c",
   "metadata": {},
   "outputs": [
    {
     "name": "stdin",
     "output_type": "stream",
     "text": [
      "Enter a positive integer:  3\n"
     ]
    },
    {
     "name": "stdout",
     "output_type": "stream",
     "text": [
      "The sum of all integers from 1 to 3 is: 6\n"
     ]
    }
   ],
   "source": [
    "# Ask the user for a positive integer value\n",
    "n = int(input(\"Enter a positive integer: \"))\n",
    "\n",
    "# Check if the entered number is positive\n",
    "if n <= 0:\n",
    "    print(\"Please enter a positive integer.\")\n",
    "else:\n",
    "    # Calculate the sum of integers from 1 to n\n",
    "    total_sum = sum(range(1, n + 1))\n",
    "    \n",
    "    # Print the result\n",
    "    print(f\"The sum of all integers from 1 to {n} is: {total_sum}\")\n"
   ]
  },
  {
   "cell_type": "markdown",
   "id": "7be08af4-ef15-4596-b29b-4751af6d78ae",
   "metadata": {},
   "source": [
    "### 12. write a program that takes a positive integer N as input and calculates the sum of the reciprocals of all numbers from 1 up to N. The program should display the final sum."
   ]
  },
  {
   "cell_type": "code",
   "execution_count": 116,
   "id": "0bfae8a9-0942-43b6-8799-0364277d8ccf",
   "metadata": {},
   "outputs": [
    {
     "name": "stdin",
     "output_type": "stream",
     "text": [
      "Enter a positive integer:  23\n"
     ]
    },
    {
     "name": "stdout",
     "output_type": "stream",
     "text": [
      "The sum of the reciprocals from 1 to 23 is: 3.734292\n"
     ]
    }
   ],
   "source": [
    "# Ask the user for a positive integer value\n",
    "N = int(input(\"Enter a positive integer: \"))\n",
    "\n",
    "# Check if the entered number is positive\n",
    "if N <= 0:\n",
    "    print(\"Please enter a positive integer.\")\n",
    "else:\n",
    "    # Calculate the sum of reciprocals\n",
    "    reciprocal_sum = sum(1 / i for i in range(1, N + 1))\n",
    "    \n",
    "    # Print the result\n",
    "    print(f\"The sum of the reciprocals from 1 to {N} is: {reciprocal_sum:.6f}\")\n"
   ]
  },
  {
   "cell_type": "markdown",
   "id": "ce05b4f1-fd26-4f7b-91ac-964a410cdbe5",
   "metadata": {},
   "source": [
    "### 13. Write a program that prompts the user to enter a number and repeats this process 5 times. The program should accumulate the numbers entered and then display the final running total."
   ]
  },
  {
   "cell_type": "code",
   "execution_count": 133,
   "id": "6639bed5-2bc0-401f-bf3f-9c02a6fc1c80",
   "metadata": {},
   "outputs": [
    {
     "name": "stdin",
     "output_type": "stream",
     "text": [
      "Enter any number: 2\n",
      "Enter any number: 34\n",
      "Enter any number: 45\n",
      "Enter any number: 2\n",
      "Enter any number: 12\n"
     ]
    },
    {
     "name": "stdout",
     "output_type": "stream",
     "text": [
      "12\n"
     ]
    }
   ],
   "source": [
    "i=0 \n",
    "for x in range(1,6):\n",
    "    \n",
    "   n =int(input(\"Enter any number:\")) \n",
    "i+= n \n",
    "print(i) \n"
   ]
  },
  {
   "cell_type": "code",
   "execution_count": 139,
   "id": "6172b5fb-cfdc-447c-ac8a-65a47d563dd7",
   "metadata": {},
   "outputs": [
    {
     "name": "stdin",
     "output_type": "stream",
     "text": [
      "ENTER NUMBER  3\n"
     ]
    },
    {
     "name": "stdout",
     "output_type": "stream",
     "text": [
      "1\n"
     ]
    },
    {
     "name": "stdin",
     "output_type": "stream",
     "text": [
      "ENTER NUMBER  45\n"
     ]
    },
    {
     "name": "stdout",
     "output_type": "stream",
     "text": [
      "3\n"
     ]
    },
    {
     "name": "stdin",
     "output_type": "stream",
     "text": [
      "ENTER NUMBER  3\n"
     ]
    },
    {
     "name": "stdout",
     "output_type": "stream",
     "text": [
      "6\n"
     ]
    },
    {
     "name": "stdin",
     "output_type": "stream",
     "text": [
      "ENTER NUMBER  45\n"
     ]
    },
    {
     "name": "stdout",
     "output_type": "stream",
     "text": [
      "10\n"
     ]
    },
    {
     "name": "stdin",
     "output_type": "stream",
     "text": [
      "ENTER NUMBER  8\n"
     ]
    },
    {
     "name": "stdout",
     "output_type": "stream",
     "text": [
      "15\n"
     ]
    }
   ],
   "source": [
    "i= 0\n",
    "\n",
    "for x in range(1,6):\n",
    "    n = int(input('ENTER NUMBER '))\n",
    "    i += x\n",
    "    \n",
    "    print(i)"
   ]
  },
  {
   "cell_type": "markdown",
   "id": "d988382e-60db-47bc-8d12-df64e6d98ffc",
   "metadata": {},
   "source": [
    "### 14. Write a program that prompts the user to enter a positive integer and calculates its factorial. The factorial of a positive integer 'n' is denoted as 'n!' and is calculated by multiplying all the integers from 1 to 'n' together. For example, the factorial of 5 (denoted as 5!) is calculated as 1 x 2 x 3 x 4 x 5."
   ]
  },
  {
   "cell_type": "code",
   "execution_count": 163,
   "id": "cc7b8c9d-df89-4e5c-a72c-c8188ee45a07",
   "metadata": {},
   "outputs": [
    {
     "name": "stdin",
     "output_type": "stream",
     "text": [
      "Enter any number: 6\n"
     ]
    },
    {
     "name": "stdout",
     "output_type": "stream",
     "text": [
      "720\n"
     ]
    }
   ],
   "source": [
    " n=int(input(\"Enter any number:\")) \n",
    "i=1 \n",
    "if n == 0:\n",
    "    print (f\"Factorial of {n} does not exist!\")\n",
    "elif n < 0:\n",
    "    print (f\"Factorial of {n} does not exist!\") \n",
    "elif n == 1:\n",
    "    print(f\"Factorial of {n} does not exist!\") \n",
    "else:\n",
    "    for x in range(1,n+1):\n",
    "        \n",
    "        i *=x \n",
    "    print(i) "
   ]
  },
  {
   "cell_type": "markdown",
   "id": "b82a216c-b05d-46cd-aa3f-6f8ad547ddd6",
   "metadata": {},
   "source": [
    "### 15. Write a Python program that prompts the user to enter a base number and an exponent, and then calculates the power of the base to the exponent. The program should not use the exponentiation operator (**) or the math.pow() function. The program should handle both positive and negative exponents."
   ]
  },
  {
   "cell_type": "code",
   "execution_count": 121,
   "id": "cc9eef3e-8454-44cf-b6c4-ec80dd5167cb",
   "metadata": {},
   "outputs": [
    {
     "name": "stdin",
     "output_type": "stream",
     "text": [
      "ENTER A BASE NUMBER 2\n",
      "ENTER THE EXPONENT NUMBER 3\n"
     ]
    },
    {
     "name": "stdout",
     "output_type": "stream",
     "text": [
      "8\n"
     ]
    }
   ],
   "source": [
    "base = int(input(\"ENTER A BASE NUMBER\"))\n",
    "exp = int(input(\"ENTER THE EXPONENT NUMBER\"))\n",
    "r = 1\n",
    "for a in range(1, exp +1):\n",
    "    r*= base\n",
    "print(r)\n",
    "\n",
    "\n"
   ]
  }
 ],
 "metadata": {
  "kernelspec": {
   "display_name": "Python 3 (ipykernel)",
   "language": "python",
   "name": "python3"
  },
  "language_info": {
   "codemirror_mode": {
    "name": "ipython",
    "version": 3
   },
   "file_extension": ".py",
   "mimetype": "text/x-python",
   "name": "python",
   "nbconvert_exporter": "python",
   "pygments_lexer": "ipython3",
   "version": "3.12.7"
  }
 },
 "nbformat": 4,
 "nbformat_minor": 5
}
