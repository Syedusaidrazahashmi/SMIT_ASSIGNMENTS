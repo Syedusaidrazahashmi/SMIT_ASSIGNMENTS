{
 "cells": [
  {
   "cell_type": "markdown",
   "id": "e7757156-1b01-4908-8a20-7eeed6679ad4",
   "metadata": {},
   "source": [
    "# FUNCTION ASSIGNMENT"
   ]
  },
  {
   "cell_type": "markdown",
   "id": "e5efbdf4-e7e8-4a1d-aee5-3e842017ebe2",
   "metadata": {},
   "source": [
    "# 1. Write a Python function to find the maximum of three numbers."
   ]
  },
  {
   "cell_type": "code",
   "execution_count": 3,
   "id": "f951c428-000a-4d5c-8c0e-fa6172ab78f7",
   "metadata": {},
   "outputs": [],
   "source": [
    "def max_num(a,b,c):\n",
    "    return max(a,b,c)"
   ]
  },
  {
   "cell_type": "code",
   "execution_count": 5,
   "id": "cad03929-95b3-4e60-9398-28f466c8796b",
   "metadata": {},
   "outputs": [
    {
     "data": {
      "text/plain": [
       "8"
      ]
     },
     "execution_count": 5,
     "metadata": {},
     "output_type": "execute_result"
    }
   ],
   "source": [
    "max_num(2,5,8)"
   ]
  },
  {
   "cell_type": "markdown",
   "id": "ab5c6c2d-2ebb-431a-a545-408f96b0a6aa",
   "metadata": {},
   "source": [
    "# 2. Write a Python function to sum all the numbers in a list.\n",
    "Sample List : (8, 2, 3, 0, 7)\n",
    "Expected Output : 20"
   ]
  },
  {
   "cell_type": "code",
   "execution_count": 10,
   "id": "f19bb2d3-024b-4b81-9ca9-2385649fdfb4",
   "metadata": {},
   "outputs": [],
   "source": [
    "def sum_lst(lst):\n",
    "    return sum(lst)"
   ]
  },
  {
   "cell_type": "code",
   "execution_count": 16,
   "id": "daf763d7-3d0c-4064-8c0e-6168c1da6843",
   "metadata": {},
   "outputs": [
    {
     "data": {
      "text/plain": [
       "192"
      ]
     },
     "execution_count": 16,
     "metadata": {},
     "output_type": "execute_result"
    }
   ],
   "source": [
    "sum_lst([1,5,7,89,90])"
   ]
  },
  {
   "cell_type": "markdown",
   "id": "a324ddfe-7508-4151-86bd-84214e1682a3",
   "metadata": {},
   "source": [
    "# 3. Write a Python function to multiply all the numbers in a list.\n",
    "Sample List : (8, 2, 3, -1, 7)\n",
    "Expected Output : -336"
   ]
  },
  {
   "cell_type": "code",
   "execution_count": 50,
   "id": "95899409-f8d2-4072-a2dd-38f68dfdb705",
   "metadata": {},
   "outputs": [],
   "source": [
    "def mul_lst(lst):\n",
    "    result = 1\n",
    "    for i in lst:\n",
    "        result *= i\n",
    "    return result"
   ]
  },
  {
   "cell_type": "code",
   "execution_count": 52,
   "id": "8337e58e-ba64-431a-8451-22d641540282",
   "metadata": {},
   "outputs": [
    {
     "data": {
      "text/plain": [
       "-336"
      ]
     },
     "execution_count": 52,
     "metadata": {},
     "output_type": "execute_result"
    }
   ],
   "source": [
    "mul_lst ([8, 2, 3, -1, 7])\n"
   ]
  },
  {
   "cell_type": "markdown",
   "id": "eba43396-b3ba-4e0a-8b68-c3f50699dc0e",
   "metadata": {},
   "source": [
    "# 4. Write a Python program to reverse a string.\n",
    "Sample String : \"1234abcd\"\n",
    "Expected Output : \"dcba4321\""
   ]
  },
  {
   "cell_type": "code",
   "execution_count": 58,
   "id": "a3d50046-5ac8-4fc0-a9ff-71411e091a83",
   "metadata": {},
   "outputs": [],
   "source": [
    "def rev_str(string):\n",
    "    return string[::-1]"
   ]
  },
  {
   "cell_type": "code",
   "execution_count": 62,
   "id": "f1ef3743-9f8c-4e4b-879e-6cb4fa89c7b5",
   "metadata": {},
   "outputs": [
    {
     "data": {
      "text/plain": [
       "'dcba4321'"
      ]
     },
     "execution_count": 62,
     "metadata": {},
     "output_type": "execute_result"
    }
   ],
   "source": [
    "rev_str ('1234abcd')"
   ]
  },
  {
   "cell_type": "markdown",
   "id": "677b461d-eabf-46c5-8393-d1fb6db3fde3",
   "metadata": {},
   "source": [
    "# 5. Write a Python function to calculate the factorial of a number (a non-negative integer). The function accepts the number as an argument."
   ]
  },
  {
   "cell_type": "code",
   "execution_count": 11,
   "id": "18137e40-5c7f-44a0-a6ad-9f93f4a23f4b",
   "metadata": {},
   "outputs": [],
   "source": [
    "def fac(n):\n",
    "    i = 1\n",
    "    for x in range(1,1+n):\n",
    "        i *= x\n",
    "        print(i)"
   ]
  },
  {
   "cell_type": "code",
   "execution_count": 13,
   "id": "e9fcbebb-b9b8-4bdf-bc08-6d10735ff31d",
   "metadata": {},
   "outputs": [
    {
     "name": "stdout",
     "output_type": "stream",
     "text": [
      "1\n",
      "2\n",
      "6\n"
     ]
    }
   ],
   "source": [
    "fac(3)"
   ]
  },
  {
   "cell_type": "markdown",
   "id": "139a22f6-1f1c-4999-bc01-637ece93bc74",
   "metadata": {},
   "source": [
    "# 6. Write a Python function to check whether a number falls within a given range."
   ]
  },
  {
   "cell_type": "code",
   "execution_count": 58,
   "id": "2485e897-bfec-4d90-9cd7-da3b535b5247",
   "metadata": {},
   "outputs": [],
   "source": [
    "def check(num):\n",
    "    lower = 1\n",
    "    end = 30\n",
    "    if lower <= num <= end:\n",
    "       return True\n",
    "    else:\n",
    "       return False"
   ]
  },
  {
   "cell_type": "code",
   "execution_count": 64,
   "id": "22b997cc-fc0c-4046-802c-08988dd20bcd",
   "metadata": {},
   "outputs": [
    {
     "data": {
      "text/plain": [
       "True"
      ]
     },
     "execution_count": 64,
     "metadata": {},
     "output_type": "execute_result"
    }
   ],
   "source": [
    "check(30)"
   ]
  },
  {
   "cell_type": "markdown",
   "id": "72061c1a-c8f5-4dac-aabd-e3f40964c6de",
   "metadata": {},
   "source": [
    "# 7. Write a Python function that accepts a string and counts the number of upper and lower case letters.\n",
    "Sample String : 'The quick Brow Fox'\n",
    "Expected Output :\n",
    "No. of Upper case characters : 3\n",
    "No. of Lower case Characters : 12"
   ]
  },
  {
   "cell_type": "code",
   "execution_count": 100,
   "id": "40a14802-05f2-46fa-9107-40052b7337c3",
   "metadata": {},
   "outputs": [],
   "source": [
    "def string(string):\n",
    "    uppercase_count = 0\n",
    "    lowercase_count = 0\n",
    "    for i in range(len(string)):\n",
    "        if string[i].isupper():\n",
    "            uppercase_count += 1\n",
    "        elif string[i].islower():\n",
    "            lowercase_count += 1\n",
    "\n",
    "        else:\n",
    "            pass\n",
    "\n",
    "        return f'''\n",
    "\n",
    "        UPPER_CASE LETTERS :{uppercase_count}\n",
    "        LOWER_CASE LETTERS :{lowercase_count}\n",
    "        \n",
    "        '''\n",
    "           "
   ]
  },
  {
   "cell_type": "code",
   "execution_count": 102,
   "id": "1de5f88c-6e95-4234-a1e3-9aa619d9c043",
   "metadata": {},
   "outputs": [
    {
     "name": "stdout",
     "output_type": "stream",
     "text": [
      "\n",
      "\n",
      "        UPPER_CASE LETTERS :1\n",
      "        LOWER_CASE LETTERS :0\n",
      "        \n",
      "        \n"
     ]
    }
   ],
   "source": [
    "print(string('The quick Brow Fox MAVIYA'))"
   ]
  },
  {
   "cell_type": "markdown",
   "id": "147ce888-9815-4f96-b5e2-fe69ba8c45d8",
   "metadata": {},
   "source": [
    "# 8. Write a Python function that takes a list and returns a new list with distinct elements from the first list.\n",
    "Sample List : [1,2,3,3,3,3,4,5]\n",
    "Unique List : [1, 2, 3, 4, 5]"
   ]
  },
  {
   "cell_type": "code",
   "execution_count": 129,
   "id": "3e3c6bf3-70b7-4911-bb25-8b9793c11631",
   "metadata": {},
   "outputs": [],
   "source": [
    "def lst (lst):\n",
    "    unique_lst = set(lst)\n",
    "    print(list(unique_lst))"
   ]
  },
  {
   "cell_type": "code",
   "execution_count": 131,
   "id": "aed2141f-74b3-4995-81f3-40557d32941e",
   "metadata": {},
   "outputs": [
    {
     "name": "stdout",
     "output_type": "stream",
     "text": [
      "[1, 2, 3, 4, 5]\n"
     ]
    }
   ],
   "source": [
    "lst([1,2,3,3,3,3,4,5])\n"
   ]
  },
  {
   "cell_type": "markdown",
   "id": "149e3d70-b57d-46a5-89f8-a98c640053b5",
   "metadata": {},
   "source": [
    "# 9. Write a Python function that takes a number as a parameter and checks whether the number is prime or not.\n",
    "Note : A prime number (or a prime) is a natural number greater than 1 and that\n",
    "has no positive divisors other than 1 and itself."
   ]
  },
  {
   "cell_type": "code",
   "execution_count": 162,
   "id": "2bff608d-7c4d-4f77-ba8f-29371d330323",
   "metadata": {},
   "outputs": [],
   "source": [
    " def check (num):\n",
    "     if num <= 1:\n",
    "         return \"Enter number greater than 1\" \n",
    "     for i in range (2,num):\n",
    "         if num % i == 0:\n",
    "             return (f\"\"\"It is not a prime number : {num}\"\"\")\n",
    "         return f\"\"\"It is a prime number: {num}\"\"\"\n"
   ]
  },
  {
   "cell_type": "code",
   "execution_count": 164,
   "id": "8bc59427-e3d5-411a-81c4-afc2a41c9248",
   "metadata": {},
   "outputs": [
    {
     "data": {
      "text/plain": [
       "'It is a prime number: 7'"
      ]
     },
     "execution_count": 164,
     "metadata": {},
     "output_type": "execute_result"
    }
   ],
   "source": [
    "check(7)"
   ]
  },
  {
   "cell_type": "markdown",
   "id": "716af194-c89b-407a-904f-5068490e733b",
   "metadata": {},
   "source": [
    "# 10. Write a Python program to print the even numbers from a given list.\n",
    "Sample List : [1, 2, 3, 4, 5, 6, 7, 8, 9]\n",
    "Expected Result : [2, 4, 6, 8]"
   ]
  },
  {
   "cell_type": "code",
   "execution_count": 173,
   "id": "d9da1b69-60c7-45a8-acc1-f183e87c3e82",
   "metadata": {},
   "outputs": [],
   "source": [
    "def lst ():\n",
    "    lst=[1,2,3,4,5,6,7,8,9] \n",
    "    lst1=[] \n",
    "    for i in range (2,len (lst),2):\n",
    "        lst1.append(i) \n",
    "    return lst1 "
   ]
  },
  {
   "cell_type": "code",
   "execution_count": 175,
   "id": "d2096220-f38d-4912-a9be-de2a6cad4148",
   "metadata": {},
   "outputs": [
    {
     "data": {
      "text/plain": [
       "[2, 4, 6, 8]"
      ]
     },
     "execution_count": 175,
     "metadata": {},
     "output_type": "execute_result"
    }
   ],
   "source": [
    "lst()"
   ]
  },
  {
   "cell_type": "markdown",
   "id": "4a1cf5b7-cbc6-4a0c-84cf-cf8d42ca78e5",
   "metadata": {},
   "source": [
    "# 11. Write a Python function to check whether a number is \"Perfect\" or not.\n",
    "According to Wikipedia : In number theory, a perfect number is a positive integer\n",
    "that is equal to the sum of its proper positive divisors, that is, the sum of its\n",
    "positive divisors excluding the number itself (also known as its aliquot sum).\n",
    "Equivalently, a perfect number is a number that is half the sum of all of its\n",
    "positive divisors (including itself).\n",
    "Example : The first perfect number is 6, because 1, 2, and 3 are its proper positive\n",
    "divisors, and 1 + 2 + 3 = 6. Equivalently, the number 6 is equal to half the sum of\n",
    "all its positive divisors: ( 1 + 2 + 3 + 6 ) / 2 = 6. The next perfect number is 28 = 1 +\n",
    "2 + 4 + 7 + 14. This is followed by the perfect numbers 496 and 8128."
   ]
  },
  {
   "cell_type": "code",
   "execution_count": 178,
   "id": "2f8d4b68-10ff-4140-b73b-cead5f9ffc60",
   "metadata": {},
   "outputs": [],
   "source": [
    "def check (string):\n",
    "    if string == string[::-1]:\n",
    "        return f\"\"\"{string} is polandrome\"\"\"\n",
    "    else: \n",
    "        return f\"\"\"{string} is not polandrome \"\"\""
   ]
  },
  {
   "cell_type": "code",
   "execution_count": 180,
   "id": "6c3fce5a-2756-413a-80e5-bfb9f04443e3",
   "metadata": {},
   "outputs": [
    {
     "data": {
      "text/plain": [
       "'maviya is not polandrome '"
      ]
     },
     "execution_count": 180,
     "metadata": {},
     "output_type": "execute_result"
    }
   ],
   "source": [
    "check('maviya')"
   ]
  },
  {
   "cell_type": "markdown",
   "id": "3f33f4a0-081a-4dd3-b27b-3bd2a54d51a2",
   "metadata": {},
   "source": [
    "# 12. Write a Python function that checks whether a passed string is a palindrome or not.\n",
    "Note: A palindrome is a word, phrase, or sequence that reads the same backward\n",
    "as forward, e.g., madam or nurses run."
   ]
  },
  {
   "cell_type": "code",
   "execution_count": null,
   "id": "a83cee85-852a-4a47-917d-9d0de15307de",
   "metadata": {},
   "outputs": [],
   "source": [
    "def check (string):\n",
    "    if string == string[::-1]:\n",
    "        return f\"\"\"{string} is polandrome\"\"\"\n",
    "    else: \n",
    "        return f\"\"\"{string} is not polandrome \"\"\""
   ]
  },
  {
   "cell_type": "code",
   "execution_count": 183,
   "id": "af1449fe-14d2-4d66-938c-1974347ed1e8",
   "metadata": {},
   "outputs": [
    {
     "data": {
      "text/plain": [
       "'madam or nurses run is not polandrome '"
      ]
     },
     "execution_count": 183,
     "metadata": {},
     "output_type": "execute_result"
    }
   ],
   "source": [
    "check('madam or nurses run')"
   ]
  }
 ],
 "metadata": {
  "kernelspec": {
   "display_name": "Python 3 (ipykernel)",
   "language": "python",
   "name": "python3"
  },
  "language_info": {
   "codemirror_mode": {
    "name": "ipython",
    "version": 3
   },
   "file_extension": ".py",
   "mimetype": "text/x-python",
   "name": "python",
   "nbconvert_exporter": "python",
   "pygments_lexer": "ipython3",
   "version": "3.12.7"
  }
 },
 "nbformat": 4,
 "nbformat_minor": 5
}
