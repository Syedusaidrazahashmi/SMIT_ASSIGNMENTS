{
 "cells": [
  {
   "cell_type": "markdown",
   "id": "5219699d-9706-405f-bdab-da22bf041a71",
   "metadata": {},
   "source": [
    "# PRINT FUNCTION"
   ]
  },
  {
   "cell_type": "markdown",
   "id": "8ae9ac33-4b4c-42c3-b835-afef1424bc97",
   "metadata": {},
   "source": [
    "1) Using the python print function print any string value, integer value, boolean value, float value in single print command"
   ]
  },
  {
   "cell_type": "code",
   "execution_count": null,
   "id": "3d23c78f-bbc1-4905-8dc6-8ecb0c775e8b",
   "metadata": {},
   "outputs": [
    {
     "name": "stdout",
     "output_type": "stream",
     "text": [
      "MAVIYA 48 True 54.6\n"
     ]
    }
   ],
   "source": [
    "print(\"USAID\",48,True,54.6)"
   ]
  },
  {
   "cell_type": "markdown",
   "id": "4978bf7f-0eac-4c61-91f4-bff1056d7f56",
   "metadata": {},
   "source": [
    "2) Using the python print function print hyphon(-) separated any string value, integer value, boolean value, float value in single print command"
   ]
  },
  {
   "cell_type": "code",
   "execution_count": 6,
   "id": "b05d6f68-01e7-4d3f-afc2-e06cb8f4cd89",
   "metadata": {},
   "outputs": [
    {
     "name": "stdout",
     "output_type": "stream",
     "text": [
      "NASIR HUSSAIN-4567-True-98.9\n"
     ]
    }
   ],
   "source": [
    "print(\"NASIR HUSSAIN\",4567,True,98.9, sep = \"-\")"
   ]
  },
  {
   "cell_type": "markdown",
   "id": "97d0a8f1-5373-4135-951c-b1bc1a85b633",
   "metadata": {},
   "source": [
    "3) Using the python print function print any string value, integer value, boolean value, float value in separate print command.\n",
    "But every value must be space separated and in single line"
   ]
  },
  {
   "cell_type": "code",
   "execution_count": 9,
   "id": "95acbc5d-7dc8-4cfc-9073-a0c1358daac1",
   "metadata": {},
   "outputs": [
    {
     "name": "stdout",
     "output_type": "stream",
     "text": [
      "MAVIYA 46 False 93.5\n"
     ]
    }
   ],
   "source": [
    "print(\"MAVIYA\", end=' ')\n",
    "print(46, end=' ')\n",
    "print(False, end=' ')\n",
    "print(93.5)"
   ]
  },
  {
   "cell_type": "markdown",
   "id": "d97f4ff0-7915-46f8-a10a-b5785cec2b89",
   "metadata": {},
   "source": [
    "4) Can a python print function take no value to print???\n"
   ]
  },
  {
   "cell_type": "code",
   "execution_count": 12,
   "id": "f3089c1e-1035-459b-990c-83570b00bb5f",
   "metadata": {},
   "outputs": [
    {
     "name": "stdout",
     "output_type": "stream",
     "text": [
      "\n"
     ]
    }
   ],
   "source": [
    "print(\"\")"
   ]
  },
  {
   "cell_type": "markdown",
   "id": "95d3da25-bf8a-4111-9d14-6df7ec755439",
   "metadata": {},
   "source": [
    "# # TOPIC :Variables in Python Operators"
   ]
  },
  {
   "cell_type": "markdown",
   "id": "a384a55b-e76b-4ac0-8369-5bb33f2eeadc",
   "metadata": {},
   "source": [
    "5) One of my friends name is Mr. Ahmed. He is 30 years old.  He is a lawer by profession. He has done his bachelors in law in the year 2005. He is working with a reputable law firm 'The Himalya Associates' in Karachi since 2015.\n",
    "He is a handsome lawer with height of 5.10 feets and weight 70600g. His monthly income is Rs. 200k PKR.\n",
    "\n",
    "Note: Create variables from above text and also assign values from the text.  "
   ]
  },
  {
   "cell_type": "code",
   "execution_count": 108,
   "id": "f1b5b8e2-1a55-44d7-b38d-5c837186321f",
   "metadata": {},
   "outputs": [],
   "source": [
    "name = \"Mr.Ahmad\"\n",
    "age = 30\n",
    "profession = \"Lawyer\"\n",
    "degree = \"bachelors in law\"\n",
    "graduation_year = 2005\n",
    "Organization = \"The Himalya Associates\"\n",
    "Joining_year = 2015\n",
    "height = 5.10\n",
    "weight = 70600\n",
    "Income = 20000"
   ]
  },
  {
   "cell_type": "code",
   "execution_count": 22,
   "id": "234dada6-101f-42eb-8b40-254adcb50cbf",
   "metadata": {},
   "outputs": [
    {
     "data": {
      "text/plain": [
       "'Mr.Ahmad'"
      ]
     },
     "execution_count": 22,
     "metadata": {},
     "output_type": "execute_result"
    }
   ],
   "source": [
    "name\n"
   ]
  },
  {
   "cell_type": "code",
   "execution_count": 24,
   "id": "24b880f8-e95c-49dd-9d1e-f2453d20eece",
   "metadata": {},
   "outputs": [
    {
     "data": {
      "text/plain": [
       "30"
      ]
     },
     "execution_count": 24,
     "metadata": {},
     "output_type": "execute_result"
    }
   ],
   "source": [
    "age\n"
   ]
  },
  {
   "cell_type": "code",
   "execution_count": 26,
   "id": "f9388733-b27b-4ee5-aafa-9fe761858a33",
   "metadata": {},
   "outputs": [
    {
     "data": {
      "text/plain": [
       "'Lawyer'"
      ]
     },
     "execution_count": 26,
     "metadata": {},
     "output_type": "execute_result"
    }
   ],
   "source": [
    "profession"
   ]
  },
  {
   "cell_type": "code",
   "execution_count": 28,
   "id": "08e10e3d-7c8e-4357-8191-82da4c401d76",
   "metadata": {},
   "outputs": [
    {
     "data": {
      "text/plain": [
       "'bachelors in law'"
      ]
     },
     "execution_count": 28,
     "metadata": {},
     "output_type": "execute_result"
    }
   ],
   "source": [
    "degree"
   ]
  },
  {
   "cell_type": "code",
   "execution_count": 41,
   "id": "e4800739-c0a3-47b3-9c8c-c8654d2cc457",
   "metadata": {},
   "outputs": [
    {
     "data": {
      "text/plain": [
       "2005"
      ]
     },
     "execution_count": 41,
     "metadata": {},
     "output_type": "execute_result"
    }
   ],
   "source": [
    "graduation_year"
   ]
  },
  {
   "cell_type": "code",
   "execution_count": 30,
   "id": "fa721e87-2907-474d-9c99-994424a233ad",
   "metadata": {},
   "outputs": [
    {
     "data": {
      "text/plain": [
       "'The Himalya Associates'"
      ]
     },
     "execution_count": 30,
     "metadata": {},
     "output_type": "execute_result"
    }
   ],
   "source": [
    "Organization"
   ]
  },
  {
   "cell_type": "code",
   "execution_count": 58,
   "id": "5b089ea9-d5b3-4c04-8f46-44366c4b8188",
   "metadata": {},
   "outputs": [
    {
     "data": {
      "text/plain": [
       "2015"
      ]
     },
     "execution_count": 58,
     "metadata": {},
     "output_type": "execute_result"
    }
   ],
   "source": [
    "Joining_year\n"
   ]
  },
  {
   "cell_type": "code",
   "execution_count": 32,
   "id": "c3350e03-40c1-403a-b5cf-2ab4d4a729e4",
   "metadata": {},
   "outputs": [
    {
     "data": {
      "text/plain": [
       "5.1"
      ]
     },
     "execution_count": 32,
     "metadata": {},
     "output_type": "execute_result"
    }
   ],
   "source": [
    "height"
   ]
  },
  {
   "cell_type": "code",
   "execution_count": 34,
   "id": "9d4b92a0-7351-4e74-93a9-42a31f347df3",
   "metadata": {},
   "outputs": [
    {
     "data": {
      "text/plain": [
       "'70600g'"
      ]
     },
     "execution_count": 34,
     "metadata": {},
     "output_type": "execute_result"
    }
   ],
   "source": [
    "weight"
   ]
  },
  {
   "cell_type": "code",
   "execution_count": 36,
   "id": "d8f0a4d1-ede3-4258-8c33-61ab0ba8e99a",
   "metadata": {},
   "outputs": [
    {
     "data": {
      "text/plain": [
       "20000"
      ]
     },
     "execution_count": 36,
     "metadata": {},
     "output_type": "execute_result"
    }
   ],
   "source": [
    "Income"
   ]
  },
  {
   "cell_type": "markdown",
   "id": "253ca2ce-625f-4402-983e-8ea35c2bb079",
   "metadata": {},
   "source": [
    "6)How many years has been to Mr. Ahmed after his bachelors degree? Create a variable that hold current year value and then subtract it from his passout year"
   ]
  },
  {
   "cell_type": "code",
   "execution_count": 62,
   "id": "e73909e8-a5ea-4eff-a8fe-b71724339b7f",
   "metadata": {},
   "outputs": [],
   "source": [
    "Current_year = 2024"
   ]
  },
  {
   "cell_type": "code",
   "execution_count": 64,
   "id": "12f877b7-c465-40aa-976c-0aa54a9bd281",
   "metadata": {},
   "outputs": [
    {
     "data": {
      "text/plain": [
       "19"
      ]
     },
     "execution_count": 64,
     "metadata": {},
     "output_type": "execute_result"
    }
   ],
   "source": [
    "Current_year - graduation_year"
   ]
  },
  {
   "cell_type": "markdown",
   "id": "e2a74eac-b3b1-4efa-87a2-777d665363d9",
   "metadata": {},
   "source": [
    "7) How many years has Mr. Ahmed been working with law firm 'The Himalya Associates'. Create necesary variables and print the correct number of years in working in the firm"
   ]
  },
  {
   "cell_type": "code",
   "execution_count": 71,
   "id": "32fe4320-3d6e-4f09-9f4c-0297392deb05",
   "metadata": {},
   "outputs": [
    {
     "data": {
      "text/plain": [
       "9"
      ]
     },
     "execution_count": 71,
     "metadata": {},
     "output_type": "execute_result"
    }
   ],
   "source": [
    "Current_year - Joining_year "
   ]
  },
  {
   "cell_type": "markdown",
   "id": "8eda3d4d-75e9-4f38-9f1d-9535b4405184",
   "metadata": {},
   "source": [
    "8)Convert the monthly income of Mr. Ahmed in dollars.  Create necesary variables and print the income in dollars."
   ]
  },
  {
   "cell_type": "code",
   "execution_count": 92,
   "id": "3c02c0bb-f012-4edc-953b-c96602420811",
   "metadata": {},
   "outputs": [],
   "source": [
    "dollar = 277\n",
    "monthly_income_dollars =Income / dollar \n"
   ]
  },
  {
   "cell_type": "code",
   "execution_count": 94,
   "id": "a6e96ce5-c69f-45c7-9024-e2e45221bc75",
   "metadata": {},
   "outputs": [
    {
     "data": {
      "text/plain": [
       "72.20216606498195"
      ]
     },
     "execution_count": 94,
     "metadata": {},
     "output_type": "execute_result"
    }
   ],
   "source": [
    "monthly_income_dollars"
   ]
  },
  {
   "cell_type": "markdown",
   "id": "eb2f6071-137c-4c2b-b26d-0531a1fed757",
   "metadata": {},
   "source": [
    "9) Check if the income in dollars is a float or integer value. if it is float, re-write the code so that income gets converted in integer. print the income in integer type value"
   ]
  },
  {
   "cell_type": "code",
   "execution_count": 97,
   "id": "ca9a4d18-0e47-4ae0-bed0-6461b0fc6119",
   "metadata": {},
   "outputs": [
    {
     "name": "stdout",
     "output_type": "stream",
     "text": [
      "72\n"
     ]
    }
   ],
   "source": [
    "type(monthly_income_dollars)\n",
    "monthly_income_dollars = Income // dollar\n",
    "print(monthly_income_dollars)"
   ]
  },
  {
   "cell_type": "markdown",
   "id": "db699bd4-9fa7-4bf3-9b67-5a38b6c0debd",
   "metadata": {},
   "source": [
    "10) Print the type of Mr. Ahmed's weight. Convert the weight of Mr. Ahmed in kg so that weight must be a integer value.\n"
   ]
  },
  {
   "cell_type": "code",
   "execution_count": 116,
   "id": "f6e4875f-fe67-489a-b6bb-3e84ed32b354",
   "metadata": {},
   "outputs": [
    {
     "name": "stdout",
     "output_type": "stream",
     "text": [
      "70 kg\n"
     ]
    }
   ],
   "source": [
    "float(weight)\n",
    "weight_g = weight // 1000\n",
    "print(weight_g,\"kg\")\n"
   ]
  },
  {
   "cell_type": "markdown",
   "id": "c0e703d7-398f-41ae-8f03-1c3e6b76fc73",
   "metadata": {},
   "source": [
    "12) Can Rs. 100 be divided equally among 6 students?\n",
    "HINT: % operator (modulo)"
   ]
  },
  {
   "cell_type": "code",
   "execution_count": 123,
   "id": "6fdc7960-c2ee-4961-94ba-f6246696fb5d",
   "metadata": {},
   "outputs": [
    {
     "data": {
      "text/plain": [
       "4"
      ]
     },
     "execution_count": 123,
     "metadata": {},
     "output_type": "execute_result"
    }
   ],
   "source": [
    "100%6"
   ]
  }
 ],
 "metadata": {
  "kernelspec": {
   "display_name": "Python 3 (ipykernel)",
   "language": "python",
   "name": "python3"
  },
  "language_info": {
   "codemirror_mode": {
    "name": "ipython",
    "version": 3
   },
   "file_extension": ".py",
   "mimetype": "text/x-python",
   "name": "python",
   "nbconvert_exporter": "python",
   "pygments_lexer": "ipython3",
   "version": "3.12.7"
  }
 },
 "nbformat": 4,
 "nbformat_minor": 5
}
